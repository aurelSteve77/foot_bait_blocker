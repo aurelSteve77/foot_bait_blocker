{
 "cells": [
  {
   "cell_type": "markdown",
   "source": [
    "# Build the final dataset"
   ],
   "metadata": {
    "collapsed": false,
    "pycharm": {
     "name": "#%% md\n"
    }
   }
  },
  {
   "cell_type": "markdown",
   "source": [
    "### Import librairies and configurations"
   ],
   "metadata": {
    "collapsed": false,
    "pycharm": {
     "name": "#%% md\n"
    }
   }
  },
  {
   "cell_type": "code",
   "execution_count": 2,
   "outputs": [],
   "source": [
    "import pandas as pd"
   ],
   "metadata": {
    "collapsed": false,
    "pycharm": {
     "name": "#%%\n"
    }
   }
  },
  {
   "cell_type": "code",
   "execution_count": 6,
   "outputs": [],
   "source": [
    "data_folder = '../../data'"
   ],
   "metadata": {
    "collapsed": false,
    "pycharm": {
     "name": "#%%\n"
    }
   }
  },
  {
   "cell_type": "markdown",
   "source": [
    "### Loading the dataset"
   ],
   "metadata": {
    "collapsed": false,
    "pycharm": {
     "name": "#%% md\n"
    }
   }
  },
  {
   "cell_type": "code",
   "execution_count": 8,
   "outputs": [
    {
     "name": "stdout",
     "output_type": "stream",
     "text": [
      "The shape of the foot01 dataset is (49999, 11)\n",
      "The shape of the foot365 dataset is (46239, 11)\n",
      "The shape of the sofoot dataset is (19072, 11)\n"
     ]
    }
   ],
   "source": [
    "foot01_data = pd.read_csv(f'{data_folder}/interim/foot01_clean.csv')\n",
    "print(f'The shape of the foot01 dataset is {foot01_data.shape}')\n",
    "foot365_data = pd.read_csv(f'{data_folder}/interim/foot365_clean.csv')\n",
    "print(f'The shape of the foot365 dataset is {foot365_data.shape}')\n",
    "sofoot_data = pd.read_csv(f'{data_folder}/interim/sofoot_clean.csv')\n",
    "print(f'The shape of the sofoot dataset is {sofoot_data.shape}')"
   ],
   "metadata": {
    "collapsed": false,
    "pycharm": {
     "name": "#%%\n"
    }
   }
  },
  {
   "cell_type": "markdown",
   "source": [
    "### Merging all the data"
   ],
   "metadata": {
    "collapsed": false,
    "pycharm": {
     "name": "#%% md\n"
    }
   }
  },
  {
   "cell_type": "code",
   "execution_count": 9,
   "outputs": [],
   "source": [
    "# add a a column source name on every row of dataset\n",
    "\n",
    "foot01_data['source_name'] = 'foot01'\n",
    "foot01_data['clickbait'] = 1\n",
    "\n",
    "foot365_data['source_name'] = 'foot365'\n",
    "foot365_data['clickbait'] = 0\n",
    "\n",
    "sofoot_data['source_name'] = 'sofoot'\n",
    "sofoot_data['clickbait'] = 0\n"
   ],
   "metadata": {
    "collapsed": false,
    "pycharm": {
     "name": "#%%\n"
    }
   }
  },
  {
   "cell_type": "code",
   "execution_count": 10,
   "outputs": [
    {
     "name": "stdout",
     "output_type": "stream",
     "text": [
      "(30000, 13)\n"
     ]
    },
    {
     "name": "stderr",
     "output_type": "stream",
     "text": [
      "C:\\Users\\avomo\\AppData\\Local\\Temp\\ipykernel_6612\\3102513161.py:11: FutureWarning: The frame.append method is deprecated and will be removed from pandas in a future version. Use pandas.concat instead.\n",
      "  final_dataset = foot01_subsample.append(foot365_subsample).append(sofoot_subsample)\n",
      "C:\\Users\\avomo\\AppData\\Local\\Temp\\ipykernel_6612\\3102513161.py:11: FutureWarning: The frame.append method is deprecated and will be removed from pandas in a future version. Use pandas.concat instead.\n",
      "  final_dataset = foot01_subsample.append(foot365_subsample).append(sofoot_subsample)\n"
     ]
    }
   ],
   "source": [
    "# choose randomly a subsample of the dataset\n",
    "\n",
    "foot01_subsample = foot01_data.sample(15000)\n",
    "\n",
    "foot365_subsample = foot365_data.sample(7000)\n",
    "\n",
    "sofoot_subsample = sofoot_data.sample(8000)\n",
    "\n",
    "\n",
    "# merge the data\n",
    "final_dataset = foot01_subsample.append(foot365_subsample).append(sofoot_subsample)\n",
    "\n",
    "print(final_dataset.shape)"
   ],
   "metadata": {
    "collapsed": false,
    "pycharm": {
     "name": "#%%\n"
    }
   }
  },
  {
   "cell_type": "code",
   "execution_count": 11,
   "outputs": [
    {
     "data": {
      "text/plain": "                            date  \\\n16034  2021-06-24 15:31:29+00:00   \n17390  2021-05-21 12:07:04+00:00   \n6209   2022-03-27 12:30:37+00:00   \n46683  2019-05-21 20:44:04+00:00   \n42070  2019-09-02 19:35:34+00:00   \n...                          ...   \n7884   2020-06-23 11:14:40+00:00   \n16899  2017-10-23 07:45:03+00:00   \n8776   2020-04-10 19:07:59+00:00   \n7738   2020-07-11 08:00:01+00:00   \n15199  2018-06-19 08:30:06+00:00   \n\n                                                 content  \\\n16034  Bordeaux ne fera aucun cadeau à Lopez https://...   \n17390  OL : Une pépite à 10 ME échappe à Juninho http...   \n6209   Bordeaux déjà revendu par Gérard Lopez ? https...   \n46683  Mercato : Leeds ou Rome, Marcelo Bielsa a fait...   \n42070  EdF : N°2 au Real Madrid, Areola est en danger...   \n...                                                  ...   \n7884   60 millions d'euros, ça fait beaucoup d'argent...   \n16899  Du vice, de l'impact, de l'intensité : les Mar...   \n8776   Chaque semaine, tu l'attends comme une demi-fi...   \n7738   Ça fait 30 ans qu'ils attendaient ça. L'URSS e...   \n15199  Si quelqu'un l'avait blessé avant le Mondial, ...   \n\n                                         renderedContent  replyCount  \\\n16034  Bordeaux ne fera aucun cadeau à Lopez foot01.c...           0   \n17390  OL : Une pépite à 10 ME échappe à Juninho dlvr...           0   \n6209   Bordeaux déjà revendu par Gérard Lopez ? foot0...           3   \n46683  Mercato : Leeds ou Rome, Marcelo Bielsa a fait...           0   \n42070  EdF : N°2 au Real Madrid, Areola est en danger...           0   \n...                                                  ...         ...   \n7884   60 millions d'euros, ça fait beaucoup d'argent...           2   \n16899  Du vice, de l'impact, de l'intensité : les Mar...           3   \n8776   Chaque semaine, tu l'attends comme une demi-fi...           4   \n7738   Ça fait 30 ans qu'ils attendaient ça. L'URSS e...           0   \n15199  Si quelqu'un l'avait blessé avant le Mondial, ...           0   \n\n       retweetCount  likeCount  quoteCount                  tcooutlinks  \\\n16034             0          0           0  ['https://t.co/qV5rvDEhRb']   \n17390             2          2           0  ['https://t.co/4xGXSPr6EZ']   \n6209              3          7           4  ['https://t.co/f3mWWRsTap']   \n46683             0          0           0  ['https://t.co/pVg0Js0IuT']   \n42070             0          0           0  ['https://t.co/bFoiww7bQX']   \n...             ...        ...         ...                          ...   \n7884              3         71           0  ['https://t.co/rZmqswDHlp']   \n16899             7         21           0  ['https://t.co/kjAKdr0nkR']   \n8776              9         68           0  ['https://t.co/g8ldlTXaeq']   \n7738              8         36           3  ['https://t.co/sfcPJ81vRt']   \n15199             2          7           0  ['https://t.co/SJqTgT7OUi']   \n\n           hashtags             article_link  \\\n16034           NaN  https://t.co/qV5rvDEhRb   \n17390      ['Foot']  https://t.co/4xGXSPr6EZ   \n6209            NaN  https://t.co/f3mWWRsTap   \n46683      ['Foot']  https://t.co/pVg0Js0IuT   \n42070      ['Foot']  https://t.co/bFoiww7bQX   \n...             ...                      ...   \n7884            NaN  https://t.co/rZmqswDHlp   \n16899           NaN  https://t.co/kjAKdr0nkR   \n8776   ['KohLanta']  https://t.co/g8ldlTXaeq   \n7738            NaN  https://t.co/sfcPJ81vRt   \n15199           NaN  https://t.co/SJqTgT7OUi   \n\n                                                headline source_name  \\\n16034             Bordeaux ne fera aucun cadeau à Lopez       foot01   \n17390  OL : Une pépite à 10 ME échappe à Juninho dlvr...      foot01   \n6209           Bordeaux déjà revendu par Gérard Lopez ?       foot01   \n46683  Mercato : Leeds ou Rome, Marcelo Bielsa a fait...      foot01   \n42070  EdF : N°2 au Real Madrid, Areola est en danger...      foot01   \n...                                                  ...         ...   \n7884   60 millions d'euros, ça fait beaucoup d'argent...      sofoot   \n16899  Du vice, de l'impact, de l'intensité : les Mar...      sofoot   \n8776   Chaque semaine, tu l'attends comme une demi-fi...      sofoot   \n7738   Ça fait 30 ans qu'ils attendaient ça. L'URSS e...      sofoot   \n15199  Si quelqu'un l'avait blessé avant le Mondial, ...      sofoot   \n\n       clickbait  \n16034          1  \n17390          1  \n6209           1  \n46683          1  \n42070          1  \n...          ...  \n7884           0  \n16899          0  \n8776           0  \n7738           0  \n15199          0  \n\n[30000 rows x 13 columns]",
      "text/html": "<div>\n<style scoped>\n    .dataframe tbody tr th:only-of-type {\n        vertical-align: middle;\n    }\n\n    .dataframe tbody tr th {\n        vertical-align: top;\n    }\n\n    .dataframe thead th {\n        text-align: right;\n    }\n</style>\n<table border=\"1\" class=\"dataframe\">\n  <thead>\n    <tr style=\"text-align: right;\">\n      <th></th>\n      <th>date</th>\n      <th>content</th>\n      <th>renderedContent</th>\n      <th>replyCount</th>\n      <th>retweetCount</th>\n      <th>likeCount</th>\n      <th>quoteCount</th>\n      <th>tcooutlinks</th>\n      <th>hashtags</th>\n      <th>article_link</th>\n      <th>headline</th>\n      <th>source_name</th>\n      <th>clickbait</th>\n    </tr>\n  </thead>\n  <tbody>\n    <tr>\n      <th>16034</th>\n      <td>2021-06-24 15:31:29+00:00</td>\n      <td>Bordeaux ne fera aucun cadeau à Lopez https://...</td>\n      <td>Bordeaux ne fera aucun cadeau à Lopez foot01.c...</td>\n      <td>0</td>\n      <td>0</td>\n      <td>0</td>\n      <td>0</td>\n      <td>['https://t.co/qV5rvDEhRb']</td>\n      <td>NaN</td>\n      <td>https://t.co/qV5rvDEhRb</td>\n      <td>Bordeaux ne fera aucun cadeau à Lopez</td>\n      <td>foot01</td>\n      <td>1</td>\n    </tr>\n    <tr>\n      <th>17390</th>\n      <td>2021-05-21 12:07:04+00:00</td>\n      <td>OL : Une pépite à 10 ME échappe à Juninho http...</td>\n      <td>OL : Une pépite à 10 ME échappe à Juninho dlvr...</td>\n      <td>0</td>\n      <td>2</td>\n      <td>2</td>\n      <td>0</td>\n      <td>['https://t.co/4xGXSPr6EZ']</td>\n      <td>['Foot']</td>\n      <td>https://t.co/4xGXSPr6EZ</td>\n      <td>OL : Une pépite à 10 ME échappe à Juninho dlvr...</td>\n      <td>foot01</td>\n      <td>1</td>\n    </tr>\n    <tr>\n      <th>6209</th>\n      <td>2022-03-27 12:30:37+00:00</td>\n      <td>Bordeaux déjà revendu par Gérard Lopez ? https...</td>\n      <td>Bordeaux déjà revendu par Gérard Lopez ? foot0...</td>\n      <td>3</td>\n      <td>3</td>\n      <td>7</td>\n      <td>4</td>\n      <td>['https://t.co/f3mWWRsTap']</td>\n      <td>NaN</td>\n      <td>https://t.co/f3mWWRsTap</td>\n      <td>Bordeaux déjà revendu par Gérard Lopez ?</td>\n      <td>foot01</td>\n      <td>1</td>\n    </tr>\n    <tr>\n      <th>46683</th>\n      <td>2019-05-21 20:44:04+00:00</td>\n      <td>Mercato : Leeds ou Rome, Marcelo Bielsa a fait...</td>\n      <td>Mercato : Leeds ou Rome, Marcelo Bielsa a fait...</td>\n      <td>0</td>\n      <td>0</td>\n      <td>0</td>\n      <td>0</td>\n      <td>['https://t.co/pVg0Js0IuT']</td>\n      <td>['Foot']</td>\n      <td>https://t.co/pVg0Js0IuT</td>\n      <td>Mercato : Leeds ou Rome, Marcelo Bielsa a fait...</td>\n      <td>foot01</td>\n      <td>1</td>\n    </tr>\n    <tr>\n      <th>42070</th>\n      <td>2019-09-02 19:35:34+00:00</td>\n      <td>EdF : N°2 au Real Madrid, Areola est en danger...</td>\n      <td>EdF : N°2 au Real Madrid, Areola est en danger...</td>\n      <td>0</td>\n      <td>0</td>\n      <td>0</td>\n      <td>0</td>\n      <td>['https://t.co/bFoiww7bQX']</td>\n      <td>['Foot']</td>\n      <td>https://t.co/bFoiww7bQX</td>\n      <td>EdF : N°2 au Real Madrid, Areola est en danger...</td>\n      <td>foot01</td>\n      <td>1</td>\n    </tr>\n    <tr>\n      <th>...</th>\n      <td>...</td>\n      <td>...</td>\n      <td>...</td>\n      <td>...</td>\n      <td>...</td>\n      <td>...</td>\n      <td>...</td>\n      <td>...</td>\n      <td>...</td>\n      <td>...</td>\n      <td>...</td>\n      <td>...</td>\n      <td>...</td>\n    </tr>\n    <tr>\n      <th>7884</th>\n      <td>2020-06-23 11:14:40+00:00</td>\n      <td>60 millions d'euros, ça fait beaucoup d'argent...</td>\n      <td>60 millions d'euros, ça fait beaucoup d'argent...</td>\n      <td>2</td>\n      <td>3</td>\n      <td>71</td>\n      <td>0</td>\n      <td>['https://t.co/rZmqswDHlp']</td>\n      <td>NaN</td>\n      <td>https://t.co/rZmqswDHlp</td>\n      <td>60 millions d'euros, ça fait beaucoup d'argent...</td>\n      <td>sofoot</td>\n      <td>0</td>\n    </tr>\n    <tr>\n      <th>16899</th>\n      <td>2017-10-23 07:45:03+00:00</td>\n      <td>Du vice, de l'impact, de l'intensité : les Mar...</td>\n      <td>Du vice, de l'impact, de l'intensité : les Mar...</td>\n      <td>3</td>\n      <td>7</td>\n      <td>21</td>\n      <td>0</td>\n      <td>['https://t.co/kjAKdr0nkR']</td>\n      <td>NaN</td>\n      <td>https://t.co/kjAKdr0nkR</td>\n      <td>Du vice, de l'impact, de l'intensité : les Mar...</td>\n      <td>sofoot</td>\n      <td>0</td>\n    </tr>\n    <tr>\n      <th>8776</th>\n      <td>2020-04-10 19:07:59+00:00</td>\n      <td>Chaque semaine, tu l'attends comme une demi-fi...</td>\n      <td>Chaque semaine, tu l'attends comme une demi-fi...</td>\n      <td>4</td>\n      <td>9</td>\n      <td>68</td>\n      <td>0</td>\n      <td>['https://t.co/g8ldlTXaeq']</td>\n      <td>['KohLanta']</td>\n      <td>https://t.co/g8ldlTXaeq</td>\n      <td>Chaque semaine, tu l'attends comme une demi-fi...</td>\n      <td>sofoot</td>\n      <td>0</td>\n    </tr>\n    <tr>\n      <th>7738</th>\n      <td>2020-07-11 08:00:01+00:00</td>\n      <td>Ça fait 30 ans qu'ils attendaient ça. L'URSS e...</td>\n      <td>Ça fait 30 ans qu'ils attendaient ça. L'URSS e...</td>\n      <td>0</td>\n      <td>8</td>\n      <td>36</td>\n      <td>3</td>\n      <td>['https://t.co/sfcPJ81vRt']</td>\n      <td>NaN</td>\n      <td>https://t.co/sfcPJ81vRt</td>\n      <td>Ça fait 30 ans qu'ils attendaient ça. L'URSS e...</td>\n      <td>sofoot</td>\n      <td>0</td>\n    </tr>\n    <tr>\n      <th>15199</th>\n      <td>2018-06-19 08:30:06+00:00</td>\n      <td>Si quelqu'un l'avait blessé avant le Mondial, ...</td>\n      <td>Si quelqu'un l'avait blessé avant le Mondial, ...</td>\n      <td>0</td>\n      <td>2</td>\n      <td>7</td>\n      <td>0</td>\n      <td>['https://t.co/SJqTgT7OUi']</td>\n      <td>NaN</td>\n      <td>https://t.co/SJqTgT7OUi</td>\n      <td>Si quelqu'un l'avait blessé avant le Mondial, ...</td>\n      <td>sofoot</td>\n      <td>0</td>\n    </tr>\n  </tbody>\n</table>\n<p>30000 rows × 13 columns</p>\n</div>"
     },
     "execution_count": 11,
     "metadata": {},
     "output_type": "execute_result"
    }
   ],
   "source": [
    "final_dataset"
   ],
   "metadata": {
    "collapsed": false,
    "pycharm": {
     "name": "#%%\n"
    }
   }
  },
  {
   "cell_type": "code",
   "execution_count": 12,
   "outputs": [],
   "source": [
    "# export\n",
    "\n",
    "final_dataset.to_csv(f'{data_folder}/interim/dataset_01.csv', index = False)"
   ],
   "metadata": {
    "collapsed": false,
    "pycharm": {
     "name": "#%%\n"
    }
   }
  },
  {
   "cell_type": "code",
   "execution_count": null,
   "outputs": [],
   "source": [],
   "metadata": {
    "collapsed": false,
    "pycharm": {
     "name": "#%%\n"
    }
   }
  }
 ],
 "metadata": {
  "kernelspec": {
   "display_name": "Python 3",
   "language": "python",
   "name": "python3"
  },
  "language_info": {
   "codemirror_mode": {
    "name": "ipython",
    "version": 2
   },
   "file_extension": ".py",
   "mimetype": "text/x-python",
   "name": "python",
   "nbconvert_exporter": "python",
   "pygments_lexer": "ipython2",
   "version": "2.7.6"
  }
 },
 "nbformat": 4,
 "nbformat_minor": 0
}