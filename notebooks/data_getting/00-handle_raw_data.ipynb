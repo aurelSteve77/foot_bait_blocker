{
 "cells": [
  {
   "cell_type": "markdown",
   "source": [
    "# Data cleaning of raw scrapped data"
   ],
   "metadata": {
    "collapsed": false,
    "pycharm": {
     "name": "#%% md\n"
    }
   }
  },
  {
   "cell_type": "markdown",
   "source": [
    "### 01. Import librairies and configurations"
   ],
   "metadata": {
    "collapsed": false,
    "pycharm": {
     "name": "#%% md\n"
    }
   }
  },
  {
   "cell_type": "code",
   "execution_count": 7,
   "outputs": [],
   "source": [
    "import pandas as pd\n",
    "from pandas.io.json import json_normalize\n",
    "import warnings\n",
    "import os\n",
    "\n",
    "warnings.filterwarnings('ignore')"
   ],
   "metadata": {
    "collapsed": false,
    "pycharm": {
     "name": "#%%\n"
    }
   }
  },
  {
   "cell_type": "code",
   "execution_count": 53,
   "outputs": [],
   "source": [
    "#configurations\n",
    "data_folder = '../data'"
   ],
   "metadata": {
    "collapsed": false,
    "pycharm": {
     "name": "#%%\n"
    }
   }
  },
  {
   "cell_type": "markdown",
   "source": [
    "### 02. Foot01 data"
   ],
   "metadata": {
    "collapsed": false,
    "pycharm": {
     "name": "#%% md\n"
    }
   }
  },
  {
   "cell_type": "code",
   "execution_count": 13,
   "outputs": [
    {
     "name": "stdout",
     "output_type": "stream",
     "text": [
      "The shape of the dataset is (50000, 28)\n"
     ]
    }
   ],
   "source": [
    "foot01_data_raw = pd.read_json(f'{data_folder}/raw/foot01.jsonl', lines=True)\n",
    "print(f'The shape of the dataset is {foot01_data_raw.shape}')"
   ],
   "metadata": {
    "collapsed": false,
    "pycharm": {
     "name": "#%%\n"
    }
   }
  },
  {
   "cell_type": "code",
   "execution_count": 15,
   "outputs": [
    {
     "data": {
      "text/plain": "                                _type  \\\n11937  snscrape.modules.twitter.Tweet   \n31420  snscrape.modules.twitter.Tweet   \n21363  snscrape.modules.twitter.Tweet   \n3640   snscrape.modules.twitter.Tweet   \n35974  snscrape.modules.twitter.Tweet   \n\n                                                     url  \\\n11937  https://twitter.com/Foot01_com/status/14496693...   \n31420  https://twitter.com/Foot01_com/status/12644447...   \n21363  https://twitter.com/Foot01_com/status/13599896...   \n3640   https://twitter.com/Foot01_com/status/15342290...   \n35974  https://twitter.com/Foot01_com/status/12192820...   \n\n                           date  \\\n11937 2021-10-17 09:31:16+00:00   \n31420 2020-05-24 06:35:02+00:00   \n21363 2021-02-11 22:16:05+00:00   \n3640  2022-06-07 17:41:22+00:00   \n35974 2020-01-20 15:34:33+00:00   \n\n                                                 content  \\\n11937  PSG : Lewandowski le secret pour prolonger Mba...   \n31420  L1 : « On est trop con », Aulas craque contre ...   \n21363  PSG : Mbappé va s’amuser, la défense du Barça ...   \n3640   Pascal Dupraz révèle avoir été menacé de mort ...   \n35974  OL : Rayan Cherki est déjà en mode Kylian Mbap...   \n\n                                         renderedContent                   id  \\\n11937  PSG : Lewandowski le secret pour prolonger Mba...  1449669331839762433   \n31420  L1 : « On est trop con », Aulas craque contre ...  1264444780991229952   \n21363  PSG : Mbappé va s’amuser, la défense du Barça ...  1359989611108261891   \n3640   Pascal Dupraz révèle avoir été menacé de mort ...  1534229038797029377   \n35974  OL : Rayan Cherki est déjà en mode Kylian Mbap...  1219282069160751105   \n\n                                                    user  replyCount  \\\n11937  {'_type': 'snscrape.modules.twitter.User', 'us...           0   \n31420  {'_type': 'snscrape.modules.twitter.User', 'us...           0   \n21363  {'_type': 'snscrape.modules.twitter.User', 'us...           1   \n3640   {'_type': 'snscrape.modules.twitter.User', 'us...           0   \n35974  {'_type': 'snscrape.modules.twitter.User', 'us...           0   \n\n       retweetCount  likeCount  ...  \\\n11937             0          0  ...   \n31420             0          0  ...   \n21363             0          0  ...   \n3640              0          0  ...   \n35974             0          1  ...   \n\n                                                   media  retweetedTweet  \\\n11937                                               None             NaN   \n31420  [{'_type': 'snscrape.modules.twitter.Photo', '...             NaN   \n21363  [{'_type': 'snscrape.modules.twitter.Photo', '...             NaN   \n3640                                                None             NaN   \n35974  [{'_type': 'snscrape.modules.twitter.Photo', '...             NaN   \n\n      quotedTweet inReplyToTweetId inReplyToUser mentionedUsers coordinates  \\\n11937         NaN              NaN           NaN            NaN         NaN   \n31420         NaN              NaN           NaN            NaN         NaN   \n21363         NaN              NaN           NaN            NaN         NaN   \n3640          NaN              NaN           NaN            NaN         NaN   \n35974         NaN              NaN           NaN            NaN         NaN   \n\n      place hashtags  cashtags  \n11937   NaN     None       NaN  \n31420   NaN   [Foot]       NaN  \n21363   NaN   [Foot]       NaN  \n3640    NaN     None       NaN  \n35974   NaN   [Foot]       NaN  \n\n[5 rows x 28 columns]",
      "text/html": "<div>\n<style scoped>\n    .dataframe tbody tr th:only-of-type {\n        vertical-align: middle;\n    }\n\n    .dataframe tbody tr th {\n        vertical-align: top;\n    }\n\n    .dataframe thead th {\n        text-align: right;\n    }\n</style>\n<table border=\"1\" class=\"dataframe\">\n  <thead>\n    <tr style=\"text-align: right;\">\n      <th></th>\n      <th>_type</th>\n      <th>url</th>\n      <th>date</th>\n      <th>content</th>\n      <th>renderedContent</th>\n      <th>id</th>\n      <th>user</th>\n      <th>replyCount</th>\n      <th>retweetCount</th>\n      <th>likeCount</th>\n      <th>...</th>\n      <th>media</th>\n      <th>retweetedTweet</th>\n      <th>quotedTweet</th>\n      <th>inReplyToTweetId</th>\n      <th>inReplyToUser</th>\n      <th>mentionedUsers</th>\n      <th>coordinates</th>\n      <th>place</th>\n      <th>hashtags</th>\n      <th>cashtags</th>\n    </tr>\n  </thead>\n  <tbody>\n    <tr>\n      <th>11937</th>\n      <td>snscrape.modules.twitter.Tweet</td>\n      <td>https://twitter.com/Foot01_com/status/14496693...</td>\n      <td>2021-10-17 09:31:16+00:00</td>\n      <td>PSG : Lewandowski le secret pour prolonger Mba...</td>\n      <td>PSG : Lewandowski le secret pour prolonger Mba...</td>\n      <td>1449669331839762433</td>\n      <td>{'_type': 'snscrape.modules.twitter.User', 'us...</td>\n      <td>0</td>\n      <td>0</td>\n      <td>0</td>\n      <td>...</td>\n      <td>None</td>\n      <td>NaN</td>\n      <td>NaN</td>\n      <td>NaN</td>\n      <td>NaN</td>\n      <td>NaN</td>\n      <td>NaN</td>\n      <td>NaN</td>\n      <td>None</td>\n      <td>NaN</td>\n    </tr>\n    <tr>\n      <th>31420</th>\n      <td>snscrape.modules.twitter.Tweet</td>\n      <td>https://twitter.com/Foot01_com/status/12644447...</td>\n      <td>2020-05-24 06:35:02+00:00</td>\n      <td>L1 : « On est trop con », Aulas craque contre ...</td>\n      <td>L1 : « On est trop con », Aulas craque contre ...</td>\n      <td>1264444780991229952</td>\n      <td>{'_type': 'snscrape.modules.twitter.User', 'us...</td>\n      <td>0</td>\n      <td>0</td>\n      <td>0</td>\n      <td>...</td>\n      <td>[{'_type': 'snscrape.modules.twitter.Photo', '...</td>\n      <td>NaN</td>\n      <td>NaN</td>\n      <td>NaN</td>\n      <td>NaN</td>\n      <td>NaN</td>\n      <td>NaN</td>\n      <td>NaN</td>\n      <td>[Foot]</td>\n      <td>NaN</td>\n    </tr>\n    <tr>\n      <th>21363</th>\n      <td>snscrape.modules.twitter.Tweet</td>\n      <td>https://twitter.com/Foot01_com/status/13599896...</td>\n      <td>2021-02-11 22:16:05+00:00</td>\n      <td>PSG : Mbappé va s’amuser, la défense du Barça ...</td>\n      <td>PSG : Mbappé va s’amuser, la défense du Barça ...</td>\n      <td>1359989611108261891</td>\n      <td>{'_type': 'snscrape.modules.twitter.User', 'us...</td>\n      <td>1</td>\n      <td>0</td>\n      <td>0</td>\n      <td>...</td>\n      <td>[{'_type': 'snscrape.modules.twitter.Photo', '...</td>\n      <td>NaN</td>\n      <td>NaN</td>\n      <td>NaN</td>\n      <td>NaN</td>\n      <td>NaN</td>\n      <td>NaN</td>\n      <td>NaN</td>\n      <td>[Foot]</td>\n      <td>NaN</td>\n    </tr>\n    <tr>\n      <th>3640</th>\n      <td>snscrape.modules.twitter.Tweet</td>\n      <td>https://twitter.com/Foot01_com/status/15342290...</td>\n      <td>2022-06-07 17:41:22+00:00</td>\n      <td>Pascal Dupraz révèle avoir été menacé de mort ...</td>\n      <td>Pascal Dupraz révèle avoir été menacé de mort ...</td>\n      <td>1534229038797029377</td>\n      <td>{'_type': 'snscrape.modules.twitter.User', 'us...</td>\n      <td>0</td>\n      <td>0</td>\n      <td>0</td>\n      <td>...</td>\n      <td>None</td>\n      <td>NaN</td>\n      <td>NaN</td>\n      <td>NaN</td>\n      <td>NaN</td>\n      <td>NaN</td>\n      <td>NaN</td>\n      <td>NaN</td>\n      <td>None</td>\n      <td>NaN</td>\n    </tr>\n    <tr>\n      <th>35974</th>\n      <td>snscrape.modules.twitter.Tweet</td>\n      <td>https://twitter.com/Foot01_com/status/12192820...</td>\n      <td>2020-01-20 15:34:33+00:00</td>\n      <td>OL : Rayan Cherki est déjà en mode Kylian Mbap...</td>\n      <td>OL : Rayan Cherki est déjà en mode Kylian Mbap...</td>\n      <td>1219282069160751105</td>\n      <td>{'_type': 'snscrape.modules.twitter.User', 'us...</td>\n      <td>0</td>\n      <td>0</td>\n      <td>1</td>\n      <td>...</td>\n      <td>[{'_type': 'snscrape.modules.twitter.Photo', '...</td>\n      <td>NaN</td>\n      <td>NaN</td>\n      <td>NaN</td>\n      <td>NaN</td>\n      <td>NaN</td>\n      <td>NaN</td>\n      <td>NaN</td>\n      <td>[Foot]</td>\n      <td>NaN</td>\n    </tr>\n  </tbody>\n</table>\n<p>5 rows × 28 columns</p>\n</div>"
     },
     "execution_count": 15,
     "metadata": {},
     "output_type": "execute_result"
    }
   ],
   "source": [
    "foot01_data_raw.sample(5)"
   ],
   "metadata": {
    "collapsed": false,
    "pycharm": {
     "name": "#%%\n"
    }
   }
  },
  {
   "cell_type": "code",
   "execution_count": 17,
   "outputs": [],
   "source": [
    "# keep only  the relevant columns\n",
    "cols_to_keep = ['date', 'content', 'renderedContent', 'replyCount', 'retweetCount', 'likeCount', 'quoteCount', 'tcooutlinks', 'hashtags']\n",
    "foot01_data = foot01_data_raw[cols_to_keep]"
   ],
   "metadata": {
    "collapsed": false,
    "pycharm": {
     "name": "#%%\n"
    }
   }
  },
  {
   "cell_type": "code",
   "execution_count": 44,
   "outputs": [
    {
     "name": "stdout",
     "output_type": "stream",
     "text": [
      "<class 'pandas.core.frame.DataFrame'>\n",
      "RangeIndex: 50000 entries, 0 to 49999\n",
      "Data columns (total 11 columns):\n",
      " #   Column           Non-Null Count  Dtype              \n",
      "---  ------           --------------  -----              \n",
      " 0   date             50000 non-null  datetime64[ns, UTC]\n",
      " 1   content          50000 non-null  object             \n",
      " 2   renderedContent  50000 non-null  object             \n",
      " 3   replyCount       50000 non-null  int64              \n",
      " 4   retweetCount     50000 non-null  int64              \n",
      " 5   likeCount        50000 non-null  int64              \n",
      " 6   quoteCount       50000 non-null  int64              \n",
      " 7   tcooutlinks      49999 non-null  object             \n",
      " 8   hashtags         31649 non-null  object             \n",
      " 9   article_link     50000 non-null  object             \n",
      " 10  headline         50000 non-null  object             \n",
      "dtypes: datetime64[ns, UTC](1), int64(4), object(6)\n",
      "memory usage: 4.2+ MB\n"
     ]
    }
   ],
   "source": [
    "foot01_data.info()"
   ],
   "metadata": {
    "collapsed": false,
    "pycharm": {
     "name": "#%%\n"
    }
   }
  },
  {
   "cell_type": "code",
   "execution_count": 51,
   "outputs": [],
   "source": [
    "foot01_data.dropna(subset='tcooutlinks', inplace=True) # remove nan from tcootlinks\n",
    "foot01_data['headline'] = foot01_data['renderedContent'].apply(lambda x : x[:x.find('foot01.com')]) # remove unecessary items from the headline\n",
    "foot01_data['article_link'] = foot01_data['tcooutlinks'].apply(lambda x: x[0]) # get the link of all the article"
   ],
   "metadata": {
    "collapsed": false,
    "pycharm": {
     "name": "#%%\n"
    }
   }
  },
  {
   "cell_type": "code",
   "execution_count": 54,
   "outputs": [],
   "source": [
    "foot01_data.to_csv(f'{data_folder}/interim/foot01_clean.csv', index = False)"
   ],
   "metadata": {
    "collapsed": false,
    "pycharm": {
     "name": "#%%\n"
    }
   }
  },
  {
   "cell_type": "code",
   "execution_count": 49,
   "outputs": [],
   "source": [],
   "metadata": {
    "collapsed": false,
    "pycharm": {
     "name": "#%%\n"
    }
   }
  },
  {
   "cell_type": "markdown",
   "source": [
    "### 03. Sofoot data"
   ],
   "metadata": {
    "collapsed": false,
    "pycharm": {
     "name": "#%% md\n"
    }
   }
  },
  {
   "cell_type": "code",
   "execution_count": 55,
   "outputs": [
    {
     "name": "stdout",
     "output_type": "stream",
     "text": [
      "The shape of the data is (25000, 28)\n"
     ]
    },
    {
     "data": {
      "text/plain": "                                _type  \\\n18246  snscrape.modules.twitter.Tweet   \n1980   snscrape.modules.twitter.Tweet   \n23160  snscrape.modules.twitter.Tweet   \n21290  snscrape.modules.twitter.Tweet   \n2219   snscrape.modules.twitter.Tweet   \n\n                                                     url  \\\n18246  https://twitter.com/sofoot/status/100682357648...   \n1980   https://twitter.com/sofoot/status/150164640875...   \n23160  https://twitter.com/sofoot/status/800028229612...   \n21290  https://twitter.com/sofoot/status/897072906785...   \n2219   https://twitter.com/sofoot/status/149621848403...   \n\n                           date  \\\n18246 2018-06-13 09:00:21+00:00   \n1980  2022-03-09 19:49:37+00:00   \n23160 2016-11-19 17:29:28+00:00   \n21290 2017-08-14 12:30:22+00:00   \n2219  2022-02-22 20:20:59+00:00   \n\n                                                 content  \\\n18246  La blessure qui aurait pu ruiner sa carrière, ...   \n1980   Vous êtes prêts pour voir le Santiago Bernabeu...   \n23160  Et encore désolé pour le spoiler.\\nhttps://t.c...   \n21290  On va voir si tu as bien suivi ce week-end de ...   \n2219   \"Si je devais me résumer en un mot, ça serait ...   \n\n                                         renderedContent                   id  \\\n18246  La blessure qui aurait pu ruiner sa carrière, ...  1006823576484372480   \n1980   Vous êtes prêts pour voir le Santiago Bernabeu...  1501646408755077123   \n23160  Et encore désolé pour le spoiler.\\nsofoot.com/...   800028229612564480   \n21290  On va voir si tu as bien suivi ce week-end de ...   897072906785652736   \n2219   \"Si je devais me résumer en un mot, ça serait ...  1496218484035964930   \n\n                                                    user  replyCount  \\\n18246  {'_type': 'snscrape.modules.twitter.User', 'us...           3   \n1980   {'_type': 'snscrape.modules.twitter.User', 'us...           0   \n23160  {'_type': 'snscrape.modules.twitter.User', 'us...           1   \n21290  {'_type': 'snscrape.modules.twitter.User', 'us...           5   \n2219   {'_type': 'snscrape.modules.twitter.User', 'us...           1   \n\n       retweetCount  likeCount  ...  media  retweetedTweet quotedTweet  \\\n18246             3         15  ...   None             NaN        None   \n1980              2         14  ...   None             NaN        None   \n23160             4         10  ...   None             NaN        None   \n21290             1         10  ...   None             NaN        None   \n2219              1         27  ...   None             NaN        None   \n\n      inReplyToTweetId inReplyToUser mentionedUsers coordinates place  \\\n18246              NaN          None           None        None  None   \n1980               NaN          None           None        None  None   \n23160              NaN          None           None        None  None   \n21290              NaN          None           None        None  None   \n2219               NaN          None           None        None  None   \n\n            hashtags  cashtags  \n18246           None      None  \n1980            None      None  \n23160           None      None  \n21290  [LeGrandQuiz]      None  \n2219      [KohLanta]      None  \n\n[5 rows x 28 columns]",
      "text/html": "<div>\n<style scoped>\n    .dataframe tbody tr th:only-of-type {\n        vertical-align: middle;\n    }\n\n    .dataframe tbody tr th {\n        vertical-align: top;\n    }\n\n    .dataframe thead th {\n        text-align: right;\n    }\n</style>\n<table border=\"1\" class=\"dataframe\">\n  <thead>\n    <tr style=\"text-align: right;\">\n      <th></th>\n      <th>_type</th>\n      <th>url</th>\n      <th>date</th>\n      <th>content</th>\n      <th>renderedContent</th>\n      <th>id</th>\n      <th>user</th>\n      <th>replyCount</th>\n      <th>retweetCount</th>\n      <th>likeCount</th>\n      <th>...</th>\n      <th>media</th>\n      <th>retweetedTweet</th>\n      <th>quotedTweet</th>\n      <th>inReplyToTweetId</th>\n      <th>inReplyToUser</th>\n      <th>mentionedUsers</th>\n      <th>coordinates</th>\n      <th>place</th>\n      <th>hashtags</th>\n      <th>cashtags</th>\n    </tr>\n  </thead>\n  <tbody>\n    <tr>\n      <th>18246</th>\n      <td>snscrape.modules.twitter.Tweet</td>\n      <td>https://twitter.com/sofoot/status/100682357648...</td>\n      <td>2018-06-13 09:00:21+00:00</td>\n      <td>La blessure qui aurait pu ruiner sa carrière, ...</td>\n      <td>La blessure qui aurait pu ruiner sa carrière, ...</td>\n      <td>1006823576484372480</td>\n      <td>{'_type': 'snscrape.modules.twitter.User', 'us...</td>\n      <td>3</td>\n      <td>3</td>\n      <td>15</td>\n      <td>...</td>\n      <td>None</td>\n      <td>NaN</td>\n      <td>None</td>\n      <td>NaN</td>\n      <td>None</td>\n      <td>None</td>\n      <td>None</td>\n      <td>None</td>\n      <td>None</td>\n      <td>None</td>\n    </tr>\n    <tr>\n      <th>1980</th>\n      <td>snscrape.modules.twitter.Tweet</td>\n      <td>https://twitter.com/sofoot/status/150164640875...</td>\n      <td>2022-03-09 19:49:37+00:00</td>\n      <td>Vous êtes prêts pour voir le Santiago Bernabeu...</td>\n      <td>Vous êtes prêts pour voir le Santiago Bernabeu...</td>\n      <td>1501646408755077123</td>\n      <td>{'_type': 'snscrape.modules.twitter.User', 'us...</td>\n      <td>0</td>\n      <td>2</td>\n      <td>14</td>\n      <td>...</td>\n      <td>None</td>\n      <td>NaN</td>\n      <td>None</td>\n      <td>NaN</td>\n      <td>None</td>\n      <td>None</td>\n      <td>None</td>\n      <td>None</td>\n      <td>None</td>\n      <td>None</td>\n    </tr>\n    <tr>\n      <th>23160</th>\n      <td>snscrape.modules.twitter.Tweet</td>\n      <td>https://twitter.com/sofoot/status/800028229612...</td>\n      <td>2016-11-19 17:29:28+00:00</td>\n      <td>Et encore désolé pour le spoiler.\\nhttps://t.c...</td>\n      <td>Et encore désolé pour le spoiler.\\nsofoot.com/...</td>\n      <td>800028229612564480</td>\n      <td>{'_type': 'snscrape.modules.twitter.User', 'us...</td>\n      <td>1</td>\n      <td>4</td>\n      <td>10</td>\n      <td>...</td>\n      <td>None</td>\n      <td>NaN</td>\n      <td>None</td>\n      <td>NaN</td>\n      <td>None</td>\n      <td>None</td>\n      <td>None</td>\n      <td>None</td>\n      <td>None</td>\n      <td>None</td>\n    </tr>\n    <tr>\n      <th>21290</th>\n      <td>snscrape.modules.twitter.Tweet</td>\n      <td>https://twitter.com/sofoot/status/897072906785...</td>\n      <td>2017-08-14 12:30:22+00:00</td>\n      <td>On va voir si tu as bien suivi ce week-end de ...</td>\n      <td>On va voir si tu as bien suivi ce week-end de ...</td>\n      <td>897072906785652736</td>\n      <td>{'_type': 'snscrape.modules.twitter.User', 'us...</td>\n      <td>5</td>\n      <td>1</td>\n      <td>10</td>\n      <td>...</td>\n      <td>None</td>\n      <td>NaN</td>\n      <td>None</td>\n      <td>NaN</td>\n      <td>None</td>\n      <td>None</td>\n      <td>None</td>\n      <td>None</td>\n      <td>[LeGrandQuiz]</td>\n      <td>None</td>\n    </tr>\n    <tr>\n      <th>2219</th>\n      <td>snscrape.modules.twitter.Tweet</td>\n      <td>https://twitter.com/sofoot/status/149621848403...</td>\n      <td>2022-02-22 20:20:59+00:00</td>\n      <td>\"Si je devais me résumer en un mot, ça serait ...</td>\n      <td>\"Si je devais me résumer en un mot, ça serait ...</td>\n      <td>1496218484035964930</td>\n      <td>{'_type': 'snscrape.modules.twitter.User', 'us...</td>\n      <td>1</td>\n      <td>1</td>\n      <td>27</td>\n      <td>...</td>\n      <td>None</td>\n      <td>NaN</td>\n      <td>None</td>\n      <td>NaN</td>\n      <td>None</td>\n      <td>None</td>\n      <td>None</td>\n      <td>None</td>\n      <td>[KohLanta]</td>\n      <td>None</td>\n    </tr>\n  </tbody>\n</table>\n<p>5 rows × 28 columns</p>\n</div>"
     },
     "execution_count": 55,
     "metadata": {},
     "output_type": "execute_result"
    }
   ],
   "source": [
    "sofoot_data_raw = pd.read_json(f'{data_folder}/raw/sofoot.jsonl', lines=True)\n",
    "print(f'The shape of the data is {sofoot_data_raw.shape}')\n",
    "sofoot_data_raw.sample(5)"
   ],
   "metadata": {
    "collapsed": false,
    "pycharm": {
     "name": "#%%\n"
    }
   }
  },
  {
   "cell_type": "code",
   "execution_count": 56,
   "outputs": [],
   "source": [
    "# keep only  the relevant columns\n",
    "cols_to_keep = ['date', 'content', 'renderedContent', 'replyCount', 'retweetCount', 'likeCount', 'quoteCount', 'tcooutlinks', 'hashtags']\n",
    "sofoot_data = sofoot_data_raw[cols_to_keep]"
   ],
   "metadata": {
    "collapsed": false,
    "pycharm": {
     "name": "#%%\n"
    }
   }
  },
  {
   "cell_type": "code",
   "execution_count": 57,
   "outputs": [
    {
     "name": "stdout",
     "output_type": "stream",
     "text": [
      "<class 'pandas.core.frame.DataFrame'>\n",
      "RangeIndex: 25000 entries, 0 to 24999\n",
      "Data columns (total 9 columns):\n",
      " #   Column           Non-Null Count  Dtype              \n",
      "---  ------           --------------  -----              \n",
      " 0   date             25000 non-null  datetime64[ns, UTC]\n",
      " 1   content          25000 non-null  object             \n",
      " 2   renderedContent  25000 non-null  object             \n",
      " 3   replyCount       25000 non-null  int64              \n",
      " 4   retweetCount     25000 non-null  int64              \n",
      " 5   likeCount        25000 non-null  int64              \n",
      " 6   quoteCount       25000 non-null  int64              \n",
      " 7   tcooutlinks      19072 non-null  object             \n",
      " 8   hashtags         4966 non-null   object             \n",
      "dtypes: datetime64[ns, UTC](1), int64(4), object(4)\n",
      "memory usage: 1.7+ MB\n"
     ]
    }
   ],
   "source": [
    "sofoot_data.info()"
   ],
   "metadata": {
    "collapsed": false,
    "pycharm": {
     "name": "#%%\n"
    }
   }
  },
  {
   "cell_type": "code",
   "execution_count": 58,
   "outputs": [],
   "source": [
    "# drop missing link\n",
    "sofoot_data.dropna(subset = ['tcooutlinks'], inplace=True)"
   ],
   "metadata": {
    "collapsed": false,
    "pycharm": {
     "name": "#%%\n"
    }
   }
  },
  {
   "cell_type": "code",
   "execution_count": 63,
   "outputs": [
    {
     "data": {
      "text/plain": "'On peut être élu meilleur joueur de Serie A et ne jamais avoir été titulaire en sélection. La preuve avec Rafael Leão et le Portugal. sofoot.com/apres-l-italie…'"
     },
     "execution_count": 63,
     "metadata": {},
     "output_type": "execute_result"
    }
   ],
   "source": [
    "sofoot_data['renderedContent'][896]"
   ],
   "metadata": {
    "collapsed": false,
    "pycharm": {
     "name": "#%%\n"
    }
   }
  },
  {
   "cell_type": "code",
   "execution_count": 65,
   "outputs": [],
   "source": [
    "# remove the link in the headline\n",
    "sofoot_data['headline'] = sofoot_data['renderedContent'].apply(lambda x : x[ : x.find('sofoot.com')] )\n",
    "\n",
    "# get the link of the corresponding article\n",
    "sofoot_data['article_link'] = sofoot_data['tcooutlinks'].apply(lambda x : x[0])"
   ],
   "metadata": {
    "collapsed": false,
    "pycharm": {
     "name": "#%%\n"
    }
   }
  },
  {
   "cell_type": "code",
   "execution_count": 66,
   "outputs": [
    {
     "data": {
      "text/plain": "                           date  \\\n0     2022-09-15 14:11:05+00:00   \n1     2022-09-15 12:24:40+00:00   \n2     2022-09-15 11:50:39+00:00   \n3     2022-09-15 09:30:41+00:00   \n4     2022-09-15 08:22:24+00:00   \n...                         ...   \n24990 2015-05-15 09:06:43+00:00   \n24992 2015-05-14 18:43:29+00:00   \n24993 2015-05-14 16:20:25+00:00   \n24994 2015-05-14 12:38:20+00:00   \n24996 2015-05-13 20:49:50+00:00   \n\n                                                 content  \\\n0      Obligé de saluer un homme qui respectait autan...   \n1      Non pas un, ni deux, mais trois petits nouveau...   \n2      Avec toutes les absences, on n'est pas à l'abr...   \n3      Des résultats en berne, un climat extrasportif...   \n4      Avec son trio d'attaque, le PSG peut ouvrir n'...   \n...                                                  ...   \n24990  On est passé prendre des nouvelles de Robert V...   \n24992  Saucisse ! Francfort prive les Parisiennes du ...   \n24993  Pourquoi le football est-il meilleur que Faceb...   \n24994  Tu te rappelles du milieu Gago-Lass au Real?  ...   \n24996  La Vieille Dame a encore de beaux restes quand...   \n\n                                         renderedContent  replyCount  \\\n0      Obligé de saluer un homme qui respectait autan...           2   \n1      Non pas un, ni deux, mais trois petits nouveau...           4   \n2      Avec toutes les absences, on n'est pas à l'abr...           4   \n3      Des résultats en berne, un climat extrasportif...           0   \n4      Avec son trio d'attaque, le PSG peut ouvrir n'...           3   \n...                                                  ...         ...   \n24990  On est passé prendre des nouvelles de Robert V...           1   \n24992  Saucisse ! Francfort prive les Parisiennes du ...           0   \n24993  Pourquoi le football est-il meilleur que Faceb...           0   \n24994  Tu te rappelles du milieu Gago-Lass au Real?  ...           1   \n24996  La Vieille Dame a encore de beaux restes quand...           1   \n\n       retweetCount  likeCount  quoteCount                tcooutlinks  \\\n0                 1         41           0  [https://t.co/yaSBFtlwzX]   \n1                 1         19           0  [https://t.co/LoH4QqpoDm]   \n2                 6         32           2  [https://t.co/kDdzzbLlWv]   \n3                 4         26           1  [https://t.co/LfbIhzXTX6]   \n4                 1          9           1  [https://t.co/shDtViy9Ti]   \n...             ...        ...         ...                        ...   \n24990             2          1           0   [http://t.co/C3UQgQ7fyU]   \n24992             6          0           0   [http://t.co/g598IXnZO6]   \n24993             2          6           0   [http://t.co/7r1FmHFEeN]   \n24994             9         10           0   [http://t.co/L60BjxKG62]   \n24996            11          0           0   [http://t.co/puSVuUd7Yi]   \n\n       hashtags                                           headline  \\\n0          None  Obligé de saluer un homme qui respectait autan...   \n1          None  Non pas un, ni deux, mais trois petits nouveau...   \n2          None  Avec toutes les absences, on n'est pas à l'abr...   \n3          None  Des résultats en berne, un climat extrasportif...   \n4          None  Avec son trio d'attaque, le PSG peut ouvrir n'...   \n...         ...                                                ...   \n24990      None  On est passé prendre des nouvelles de Robert V...   \n24992      None  Saucisse ! Francfort prive les Parisiennes du ...   \n24993  [sofoot]  Pourquoi le football est-il meilleur que Faceb...   \n24994      None     Tu te rappelles du milieu Gago-Lass au Real?     \n24996      None  La Vieille Dame a encore de beaux restes quand...   \n\n                  article_link  \n0      https://t.co/yaSBFtlwzX  \n1      https://t.co/LoH4QqpoDm  \n2      https://t.co/kDdzzbLlWv  \n3      https://t.co/LfbIhzXTX6  \n4      https://t.co/shDtViy9Ti  \n...                        ...  \n24990   http://t.co/C3UQgQ7fyU  \n24992   http://t.co/g598IXnZO6  \n24993   http://t.co/7r1FmHFEeN  \n24994   http://t.co/L60BjxKG62  \n24996   http://t.co/puSVuUd7Yi  \n\n[19072 rows x 11 columns]",
      "text/html": "<div>\n<style scoped>\n    .dataframe tbody tr th:only-of-type {\n        vertical-align: middle;\n    }\n\n    .dataframe tbody tr th {\n        vertical-align: top;\n    }\n\n    .dataframe thead th {\n        text-align: right;\n    }\n</style>\n<table border=\"1\" class=\"dataframe\">\n  <thead>\n    <tr style=\"text-align: right;\">\n      <th></th>\n      <th>date</th>\n      <th>content</th>\n      <th>renderedContent</th>\n      <th>replyCount</th>\n      <th>retweetCount</th>\n      <th>likeCount</th>\n      <th>quoteCount</th>\n      <th>tcooutlinks</th>\n      <th>hashtags</th>\n      <th>headline</th>\n      <th>article_link</th>\n    </tr>\n  </thead>\n  <tbody>\n    <tr>\n      <th>0</th>\n      <td>2022-09-15 14:11:05+00:00</td>\n      <td>Obligé de saluer un homme qui respectait autan...</td>\n      <td>Obligé de saluer un homme qui respectait autan...</td>\n      <td>2</td>\n      <td>1</td>\n      <td>41</td>\n      <td>0</td>\n      <td>[https://t.co/yaSBFtlwzX]</td>\n      <td>None</td>\n      <td>Obligé de saluer un homme qui respectait autan...</td>\n      <td>https://t.co/yaSBFtlwzX</td>\n    </tr>\n    <tr>\n      <th>1</th>\n      <td>2022-09-15 12:24:40+00:00</td>\n      <td>Non pas un, ni deux, mais trois petits nouveau...</td>\n      <td>Non pas un, ni deux, mais trois petits nouveau...</td>\n      <td>4</td>\n      <td>1</td>\n      <td>19</td>\n      <td>0</td>\n      <td>[https://t.co/LoH4QqpoDm]</td>\n      <td>None</td>\n      <td>Non pas un, ni deux, mais trois petits nouveau...</td>\n      <td>https://t.co/LoH4QqpoDm</td>\n    </tr>\n    <tr>\n      <th>2</th>\n      <td>2022-09-15 11:50:39+00:00</td>\n      <td>Avec toutes les absences, on n'est pas à l'abr...</td>\n      <td>Avec toutes les absences, on n'est pas à l'abr...</td>\n      <td>4</td>\n      <td>6</td>\n      <td>32</td>\n      <td>2</td>\n      <td>[https://t.co/kDdzzbLlWv]</td>\n      <td>None</td>\n      <td>Avec toutes les absences, on n'est pas à l'abr...</td>\n      <td>https://t.co/kDdzzbLlWv</td>\n    </tr>\n    <tr>\n      <th>3</th>\n      <td>2022-09-15 09:30:41+00:00</td>\n      <td>Des résultats en berne, un climat extrasportif...</td>\n      <td>Des résultats en berne, un climat extrasportif...</td>\n      <td>0</td>\n      <td>4</td>\n      <td>26</td>\n      <td>1</td>\n      <td>[https://t.co/LfbIhzXTX6]</td>\n      <td>None</td>\n      <td>Des résultats en berne, un climat extrasportif...</td>\n      <td>https://t.co/LfbIhzXTX6</td>\n    </tr>\n    <tr>\n      <th>4</th>\n      <td>2022-09-15 08:22:24+00:00</td>\n      <td>Avec son trio d'attaque, le PSG peut ouvrir n'...</td>\n      <td>Avec son trio d'attaque, le PSG peut ouvrir n'...</td>\n      <td>3</td>\n      <td>1</td>\n      <td>9</td>\n      <td>1</td>\n      <td>[https://t.co/shDtViy9Ti]</td>\n      <td>None</td>\n      <td>Avec son trio d'attaque, le PSG peut ouvrir n'...</td>\n      <td>https://t.co/shDtViy9Ti</td>\n    </tr>\n    <tr>\n      <th>...</th>\n      <td>...</td>\n      <td>...</td>\n      <td>...</td>\n      <td>...</td>\n      <td>...</td>\n      <td>...</td>\n      <td>...</td>\n      <td>...</td>\n      <td>...</td>\n      <td>...</td>\n      <td>...</td>\n    </tr>\n    <tr>\n      <th>24990</th>\n      <td>2015-05-15 09:06:43+00:00</td>\n      <td>On est passé prendre des nouvelles de Robert V...</td>\n      <td>On est passé prendre des nouvelles de Robert V...</td>\n      <td>1</td>\n      <td>2</td>\n      <td>1</td>\n      <td>0</td>\n      <td>[http://t.co/C3UQgQ7fyU]</td>\n      <td>None</td>\n      <td>On est passé prendre des nouvelles de Robert V...</td>\n      <td>http://t.co/C3UQgQ7fyU</td>\n    </tr>\n    <tr>\n      <th>24992</th>\n      <td>2015-05-14 18:43:29+00:00</td>\n      <td>Saucisse ! Francfort prive les Parisiennes du ...</td>\n      <td>Saucisse ! Francfort prive les Parisiennes du ...</td>\n      <td>0</td>\n      <td>6</td>\n      <td>0</td>\n      <td>0</td>\n      <td>[http://t.co/g598IXnZO6]</td>\n      <td>None</td>\n      <td>Saucisse ! Francfort prive les Parisiennes du ...</td>\n      <td>http://t.co/g598IXnZO6</td>\n    </tr>\n    <tr>\n      <th>24993</th>\n      <td>2015-05-14 16:20:25+00:00</td>\n      <td>Pourquoi le football est-il meilleur que Faceb...</td>\n      <td>Pourquoi le football est-il meilleur que Faceb...</td>\n      <td>0</td>\n      <td>2</td>\n      <td>6</td>\n      <td>0</td>\n      <td>[http://t.co/7r1FmHFEeN]</td>\n      <td>[sofoot]</td>\n      <td>Pourquoi le football est-il meilleur que Faceb...</td>\n      <td>http://t.co/7r1FmHFEeN</td>\n    </tr>\n    <tr>\n      <th>24994</th>\n      <td>2015-05-14 12:38:20+00:00</td>\n      <td>Tu te rappelles du milieu Gago-Lass au Real?  ...</td>\n      <td>Tu te rappelles du milieu Gago-Lass au Real?  ...</td>\n      <td>1</td>\n      <td>9</td>\n      <td>10</td>\n      <td>0</td>\n      <td>[http://t.co/L60BjxKG62]</td>\n      <td>None</td>\n      <td>Tu te rappelles du milieu Gago-Lass au Real?</td>\n      <td>http://t.co/L60BjxKG62</td>\n    </tr>\n    <tr>\n      <th>24996</th>\n      <td>2015-05-13 20:49:50+00:00</td>\n      <td>La Vieille Dame a encore de beaux restes quand...</td>\n      <td>La Vieille Dame a encore de beaux restes quand...</td>\n      <td>1</td>\n      <td>11</td>\n      <td>0</td>\n      <td>0</td>\n      <td>[http://t.co/puSVuUd7Yi]</td>\n      <td>None</td>\n      <td>La Vieille Dame a encore de beaux restes quand...</td>\n      <td>http://t.co/puSVuUd7Yi</td>\n    </tr>\n  </tbody>\n</table>\n<p>19072 rows × 11 columns</p>\n</div>"
     },
     "execution_count": 66,
     "metadata": {},
     "output_type": "execute_result"
    }
   ],
   "source": [
    "sofoot_data"
   ],
   "metadata": {
    "collapsed": false,
    "pycharm": {
     "name": "#%%\n"
    }
   }
  },
  {
   "cell_type": "code",
   "execution_count": 67,
   "outputs": [],
   "source": [
    "sofoot_data.to_csv(f'{data_folder}/interim/sofoot_clean.csv', index = False)"
   ],
   "metadata": {
    "collapsed": false,
    "pycharm": {
     "name": "#%%\n"
    }
   }
  },
  {
   "cell_type": "markdown",
   "source": [
    "### 04. foot365 data"
   ],
   "metadata": {
    "collapsed": false,
    "pycharm": {
     "name": "#%% md\n"
    }
   }
  },
  {
   "cell_type": "code",
   "execution_count": 68,
   "outputs": [
    {
     "name": "stdout",
     "output_type": "stream",
     "text": [
      "The shape of the dataset is (50000, 28)\n"
     ]
    },
    {
     "data": {
      "text/plain": "                                _type  \\\n12161  snscrape.modules.twitter.Tweet   \n12722  snscrape.modules.twitter.Tweet   \n29256  snscrape.modules.twitter.Tweet   \n44607  snscrape.modules.twitter.Tweet   \n318    snscrape.modules.twitter.Tweet   \n\n                                                     url  \\\n12161  https://twitter.com/foot365/status/14547248956...   \n12722  https://twitter.com/foot365/status/14496217730...   \n29256  https://twitter.com/foot365/status/12805018690...   \n44607  https://twitter.com/foot365/status/67209002761...   \n318    https://twitter.com/foot365/status/15674068930...   \n\n                           date  \\\n12161 2021-10-31 08:20:17+00:00   \n12722 2021-10-17 06:22:18+00:00   \n29256 2020-07-07 14:00:10+00:00   \n44607 2015-12-02 16:28:44+00:00   \n318   2022-09-07 06:58:18+00:00   \n\n                                                 content  \\\n12161  Leonardo, le coup de pression à Pochettino htt...   \n12722  PSG : Navas vers une absence prolongée https:/...   \n29256  OM : un nouveau favori pour le poste de direct...   \n44607  #OL \"Ils peuvent battre Angers puis s'écrouler...   \n318    Mbappé, du jamais vu en Ligue des champions ht...   \n\n                                         renderedContent                   id  \\\n12161  Leonardo, le coup de pression à Pochettino foo...  1454724895603105793   \n12722  PSG : Navas vers une absence prolongée footbal...  1449621773025169411   \n29256  OM : un nouveau favori pour le poste de direct...  1280501869027229703   \n44607  #OL \"Ils peuvent battre Angers puis s'écrouler...   672090027619405826   \n318    Mbappé, du jamais vu en Ligue des champions fo...  1567406893009698816   \n\n                                                    user  replyCount  \\\n12161  {'_type': 'snscrape.modules.twitter.User', 'us...           0   \n12722  {'_type': 'snscrape.modules.twitter.User', 'us...           0   \n29256  {'_type': 'snscrape.modules.twitter.User', 'us...           1   \n44607  {'_type': 'snscrape.modules.twitter.User', 'us...           0   \n318    {'_type': 'snscrape.modules.twitter.User', 'us...           0   \n\n       retweetCount  likeCount  ...  media  retweetedTweet quotedTweet  \\\n12161             0          0  ...   None             NaN        None   \n12722             1          1  ...   None             NaN        None   \n29256             0          1  ...   None             NaN        None   \n44607             0          0  ...   None             NaN        None   \n318               0          1  ...   None             NaN        None   \n\n      inReplyToTweetId inReplyToUser  \\\n12161              NaN          None   \n12722              NaN          None   \n29256              NaN          None   \n44607              NaN          None   \n318                NaN          None   \n\n                                          mentionedUsers coordinates place  \\\n12161                                               None        None  None   \n12722                                               None        None  None   \n29256                                               None        None  None   \n44607  [{'_type': 'snscrape.modules.twitter.User', 'u...        None  None   \n318                                                 None        None  None   \n\n      hashtags  cashtags  \n12161     None       NaN  \n12722     None       NaN  \n29256     None       NaN  \n44607     [OL]       NaN  \n318       None       NaN  \n\n[5 rows x 28 columns]",
      "text/html": "<div>\n<style scoped>\n    .dataframe tbody tr th:only-of-type {\n        vertical-align: middle;\n    }\n\n    .dataframe tbody tr th {\n        vertical-align: top;\n    }\n\n    .dataframe thead th {\n        text-align: right;\n    }\n</style>\n<table border=\"1\" class=\"dataframe\">\n  <thead>\n    <tr style=\"text-align: right;\">\n      <th></th>\n      <th>_type</th>\n      <th>url</th>\n      <th>date</th>\n      <th>content</th>\n      <th>renderedContent</th>\n      <th>id</th>\n      <th>user</th>\n      <th>replyCount</th>\n      <th>retweetCount</th>\n      <th>likeCount</th>\n      <th>...</th>\n      <th>media</th>\n      <th>retweetedTweet</th>\n      <th>quotedTweet</th>\n      <th>inReplyToTweetId</th>\n      <th>inReplyToUser</th>\n      <th>mentionedUsers</th>\n      <th>coordinates</th>\n      <th>place</th>\n      <th>hashtags</th>\n      <th>cashtags</th>\n    </tr>\n  </thead>\n  <tbody>\n    <tr>\n      <th>12161</th>\n      <td>snscrape.modules.twitter.Tweet</td>\n      <td>https://twitter.com/foot365/status/14547248956...</td>\n      <td>2021-10-31 08:20:17+00:00</td>\n      <td>Leonardo, le coup de pression à Pochettino htt...</td>\n      <td>Leonardo, le coup de pression à Pochettino foo...</td>\n      <td>1454724895603105793</td>\n      <td>{'_type': 'snscrape.modules.twitter.User', 'us...</td>\n      <td>0</td>\n      <td>0</td>\n      <td>0</td>\n      <td>...</td>\n      <td>None</td>\n      <td>NaN</td>\n      <td>None</td>\n      <td>NaN</td>\n      <td>None</td>\n      <td>None</td>\n      <td>None</td>\n      <td>None</td>\n      <td>None</td>\n      <td>NaN</td>\n    </tr>\n    <tr>\n      <th>12722</th>\n      <td>snscrape.modules.twitter.Tweet</td>\n      <td>https://twitter.com/foot365/status/14496217730...</td>\n      <td>2021-10-17 06:22:18+00:00</td>\n      <td>PSG : Navas vers une absence prolongée https:/...</td>\n      <td>PSG : Navas vers une absence prolongée footbal...</td>\n      <td>1449621773025169411</td>\n      <td>{'_type': 'snscrape.modules.twitter.User', 'us...</td>\n      <td>0</td>\n      <td>1</td>\n      <td>1</td>\n      <td>...</td>\n      <td>None</td>\n      <td>NaN</td>\n      <td>None</td>\n      <td>NaN</td>\n      <td>None</td>\n      <td>None</td>\n      <td>None</td>\n      <td>None</td>\n      <td>None</td>\n      <td>NaN</td>\n    </tr>\n    <tr>\n      <th>29256</th>\n      <td>snscrape.modules.twitter.Tweet</td>\n      <td>https://twitter.com/foot365/status/12805018690...</td>\n      <td>2020-07-07 14:00:10+00:00</td>\n      <td>OM : un nouveau favori pour le poste de direct...</td>\n      <td>OM : un nouveau favori pour le poste de direct...</td>\n      <td>1280501869027229703</td>\n      <td>{'_type': 'snscrape.modules.twitter.User', 'us...</td>\n      <td>1</td>\n      <td>0</td>\n      <td>1</td>\n      <td>...</td>\n      <td>None</td>\n      <td>NaN</td>\n      <td>None</td>\n      <td>NaN</td>\n      <td>None</td>\n      <td>None</td>\n      <td>None</td>\n      <td>None</td>\n      <td>None</td>\n      <td>NaN</td>\n    </tr>\n    <tr>\n      <th>44607</th>\n      <td>snscrape.modules.twitter.Tweet</td>\n      <td>https://twitter.com/foot365/status/67209002761...</td>\n      <td>2015-12-02 16:28:44+00:00</td>\n      <td>#OL \"Ils peuvent battre Angers puis s'écrouler...</td>\n      <td>#OL \"Ils peuvent battre Angers puis s'écrouler...</td>\n      <td>672090027619405826</td>\n      <td>{'_type': 'snscrape.modules.twitter.User', 'us...</td>\n      <td>0</td>\n      <td>0</td>\n      <td>0</td>\n      <td>...</td>\n      <td>None</td>\n      <td>NaN</td>\n      <td>None</td>\n      <td>NaN</td>\n      <td>None</td>\n      <td>[{'_type': 'snscrape.modules.twitter.User', 'u...</td>\n      <td>None</td>\n      <td>None</td>\n      <td>[OL]</td>\n      <td>NaN</td>\n    </tr>\n    <tr>\n      <th>318</th>\n      <td>snscrape.modules.twitter.Tweet</td>\n      <td>https://twitter.com/foot365/status/15674068930...</td>\n      <td>2022-09-07 06:58:18+00:00</td>\n      <td>Mbappé, du jamais vu en Ligue des champions ht...</td>\n      <td>Mbappé, du jamais vu en Ligue des champions fo...</td>\n      <td>1567406893009698816</td>\n      <td>{'_type': 'snscrape.modules.twitter.User', 'us...</td>\n      <td>0</td>\n      <td>0</td>\n      <td>1</td>\n      <td>...</td>\n      <td>None</td>\n      <td>NaN</td>\n      <td>None</td>\n      <td>NaN</td>\n      <td>None</td>\n      <td>None</td>\n      <td>None</td>\n      <td>None</td>\n      <td>None</td>\n      <td>NaN</td>\n    </tr>\n  </tbody>\n</table>\n<p>5 rows × 28 columns</p>\n</div>"
     },
     "execution_count": 68,
     "metadata": {},
     "output_type": "execute_result"
    }
   ],
   "source": [
    "foot365_data_raw = pd.read_json(f'{data_folder}/raw/foot365.jsonl', lines = True)\n",
    "print(f'The shape of the dataset is {foot365_data_raw.shape}')\n",
    "foot365_data_raw.sample(5)"
   ],
   "metadata": {
    "collapsed": false,
    "pycharm": {
     "name": "#%%\n"
    }
   }
  },
  {
   "cell_type": "code",
   "execution_count": 69,
   "outputs": [],
   "source": [
    "# keep only  the relevant columns\n",
    "cols_to_keep = ['date', 'content', 'renderedContent', 'replyCount', 'retweetCount', 'likeCount', 'quoteCount', 'tcooutlinks', 'hashtags']\n",
    "foot365_data = foot365_data_raw[cols_to_keep]"
   ],
   "metadata": {
    "collapsed": false,
    "pycharm": {
     "name": "#%%\n"
    }
   }
  },
  {
   "cell_type": "code",
   "execution_count": 70,
   "outputs": [
    {
     "name": "stdout",
     "output_type": "stream",
     "text": [
      "<class 'pandas.core.frame.DataFrame'>\n",
      "RangeIndex: 50000 entries, 0 to 49999\n",
      "Data columns (total 9 columns):\n",
      " #   Column           Non-Null Count  Dtype              \n",
      "---  ------           --------------  -----              \n",
      " 0   date             50000 non-null  datetime64[ns, UTC]\n",
      " 1   content          50000 non-null  object             \n",
      " 2   renderedContent  50000 non-null  object             \n",
      " 3   replyCount       50000 non-null  int64              \n",
      " 4   retweetCount     50000 non-null  int64              \n",
      " 5   likeCount        50000 non-null  int64              \n",
      " 6   quoteCount       50000 non-null  int64              \n",
      " 7   tcooutlinks      46239 non-null  object             \n",
      " 8   hashtags         3177 non-null   object             \n",
      "dtypes: datetime64[ns, UTC](1), int64(4), object(4)\n",
      "memory usage: 3.4+ MB\n"
     ]
    }
   ],
   "source": [
    "foot365_data.info()"
   ],
   "metadata": {
    "collapsed": false,
    "pycharm": {
     "name": "#%%\n"
    }
   }
  },
  {
   "cell_type": "code",
   "execution_count": 71,
   "outputs": [],
   "source": [
    "# drop nan on non articles\n",
    "foot365_data.dropna(subset=['tcooutlinks'], inplace=True)"
   ],
   "metadata": {
    "collapsed": false,
    "pycharm": {
     "name": "#%%\n"
    }
   }
  },
  {
   "cell_type": "code",
   "execution_count": 72,
   "outputs": [
    {
     "data": {
      "text/plain": "'Hwang ou les joies du foot moderne football365.fr/hwang-joies-fo…'"
     },
     "execution_count": 72,
     "metadata": {},
     "output_type": "execute_result"
    }
   ],
   "source": [
    "foot365_data['renderedContent'][777]"
   ],
   "metadata": {
    "collapsed": false,
    "pycharm": {
     "name": "#%%\n"
    }
   }
  },
  {
   "cell_type": "code",
   "execution_count": 73,
   "outputs": [],
   "source": [
    "# remove the link in the headline\n",
    "foot365_data['headline'] = foot365_data['renderedContent'].apply(lambda x : x[ : x.find('football365.fr')] )\n",
    "\n",
    "# get the link of the corresponding article\n",
    "foot365_data['article_link'] = foot365_data['tcooutlinks'].apply(lambda x : x[0])"
   ],
   "metadata": {
    "collapsed": false,
    "pycharm": {
     "name": "#%%\n"
    }
   }
  },
  {
   "cell_type": "code",
   "execution_count": 74,
   "outputs": [
    {
     "data": {
      "text/plain": "                           date  \\\n0     2022-09-15 11:24:19+00:00   \n1     2022-09-15 10:25:16+00:00   \n2     2022-09-15 10:24:18+00:00   \n3     2022-09-15 09:25:22+00:00   \n4     2022-09-15 09:24:18+00:00   \n...                         ...   \n49995 2015-07-12 20:40:24+00:00   \n49996 2015-07-12 20:40:23+00:00   \n49997 2015-07-12 20:40:23+00:00   \n49998 2015-07-12 20:40:23+00:00   \n49999 2015-07-12 18:31:39+00:00   \n\n                                                 content  \\\n0      Ancelotti fait la paix avec Asensio https://t....   \n1      Juve : Allegri n’a pas peur pour son poste htt...   \n2      Des orgies payées par la fédération ? Scandale...   \n3      Isco pour marquer l’histoire de Séville https:...   \n4      Après sa célébration clown, Neymar pète un câb...   \n...                                                  ...   \n49995  Supercoupe : Le Zénith Saint-Pétersbourg vainq...   \n49996  Bayern Munich : La présentation de Douglas Cos...   \n49997  (Groupe A) : France - Grèce (2-0) http://t.co/...   \n49998  Bayern Munich : Schweinsteiger explique son dé...   \n49999  Argentine - River Plate et San Lorenzo font nu...   \n\n                                         renderedContent  replyCount  \\\n0      Ancelotti fait la paix avec Asensio football36...           0   \n1      Juve : Allegri n’a pas peur pour son poste foo...           0   \n2      Des orgies payées par la fédération ? Scandale...           0   \n3      Isco pour marquer l’histoire de Séville footba...           0   \n4      Après sa célébration clown, Neymar pète un câb...           0   \n...                                                  ...         ...   \n49995  Supercoupe : Le Zénith Saint-Pétersbourg vainq...           0   \n49996  Bayern Munich : La présentation de Douglas Cos...           0   \n49997   (Groupe A) : France - Grèce (2-0) bit.ly/1fAxWQj           0   \n49998  Bayern Munich : Schweinsteiger explique son dé...           0   \n49999  Argentine - River Plate et San Lorenzo font nu...           0   \n\n       retweetCount  likeCount  quoteCount                tcooutlinks  \\\n0                 0          0           0  [https://t.co/0PCeVGMpB5]   \n1                 0          2           0  [https://t.co/P6zmYF40nD]   \n2                 0          0           0  [https://t.co/bvRIi6kFoF]   \n3                 0          0           0  [https://t.co/UWkrp6yBg4]   \n4                 0          2           0  [https://t.co/VTQ3XlJ4hT]   \n...             ...        ...         ...                        ...   \n49995             2          0           0   [http://t.co/8kkio76k1A]   \n49996             2          0           0   [http://t.co/jq4VWa7S8X]   \n49997             2          0           0   [http://t.co/J7g4kBhCZA]   \n49998             2          0           0   [http://t.co/XEvsYWiG2u]   \n49999             1          0           0   [http://t.co/hAjyIz4Ktj]   \n\n      hashtags                                           headline  \\\n0         None               Ancelotti fait la paix avec Asensio    \n1         None        Juve : Allegri n’a pas peur pour son poste    \n2         None  Des orgies payées par la fédération ? Scandale...   \n3         None           Isco pour marquer l’histoire de Séville    \n4         None  Après sa célébration clown, Neymar pète un câble    \n...        ...                                                ...   \n49995     None  Supercoupe : Le Zénith Saint-Pétersbourg vainq...   \n49996     None  Bayern Munich : La présentation de Douglas Cos...   \n49997     None    (Groupe A) : France - Grèce (2-0) bit.ly/1fAxWQ   \n49998     None  Bayern Munich : Schweinsteiger explique son dé...   \n49999     None  Argentine - River Plate et San Lorenzo font nu...   \n\n                  article_link  \n0      https://t.co/0PCeVGMpB5  \n1      https://t.co/P6zmYF40nD  \n2      https://t.co/bvRIi6kFoF  \n3      https://t.co/UWkrp6yBg4  \n4      https://t.co/VTQ3XlJ4hT  \n...                        ...  \n49995   http://t.co/8kkio76k1A  \n49996   http://t.co/jq4VWa7S8X  \n49997   http://t.co/J7g4kBhCZA  \n49998   http://t.co/XEvsYWiG2u  \n49999   http://t.co/hAjyIz4Ktj  \n\n[46239 rows x 11 columns]",
      "text/html": "<div>\n<style scoped>\n    .dataframe tbody tr th:only-of-type {\n        vertical-align: middle;\n    }\n\n    .dataframe tbody tr th {\n        vertical-align: top;\n    }\n\n    .dataframe thead th {\n        text-align: right;\n    }\n</style>\n<table border=\"1\" class=\"dataframe\">\n  <thead>\n    <tr style=\"text-align: right;\">\n      <th></th>\n      <th>date</th>\n      <th>content</th>\n      <th>renderedContent</th>\n      <th>replyCount</th>\n      <th>retweetCount</th>\n      <th>likeCount</th>\n      <th>quoteCount</th>\n      <th>tcooutlinks</th>\n      <th>hashtags</th>\n      <th>headline</th>\n      <th>article_link</th>\n    </tr>\n  </thead>\n  <tbody>\n    <tr>\n      <th>0</th>\n      <td>2022-09-15 11:24:19+00:00</td>\n      <td>Ancelotti fait la paix avec Asensio https://t....</td>\n      <td>Ancelotti fait la paix avec Asensio football36...</td>\n      <td>0</td>\n      <td>0</td>\n      <td>0</td>\n      <td>0</td>\n      <td>[https://t.co/0PCeVGMpB5]</td>\n      <td>None</td>\n      <td>Ancelotti fait la paix avec Asensio</td>\n      <td>https://t.co/0PCeVGMpB5</td>\n    </tr>\n    <tr>\n      <th>1</th>\n      <td>2022-09-15 10:25:16+00:00</td>\n      <td>Juve : Allegri n’a pas peur pour son poste htt...</td>\n      <td>Juve : Allegri n’a pas peur pour son poste foo...</td>\n      <td>0</td>\n      <td>0</td>\n      <td>2</td>\n      <td>0</td>\n      <td>[https://t.co/P6zmYF40nD]</td>\n      <td>None</td>\n      <td>Juve : Allegri n’a pas peur pour son poste</td>\n      <td>https://t.co/P6zmYF40nD</td>\n    </tr>\n    <tr>\n      <th>2</th>\n      <td>2022-09-15 10:24:18+00:00</td>\n      <td>Des orgies payées par la fédération ? Scandale...</td>\n      <td>Des orgies payées par la fédération ? Scandale...</td>\n      <td>0</td>\n      <td>0</td>\n      <td>0</td>\n      <td>0</td>\n      <td>[https://t.co/bvRIi6kFoF]</td>\n      <td>None</td>\n      <td>Des orgies payées par la fédération ? Scandale...</td>\n      <td>https://t.co/bvRIi6kFoF</td>\n    </tr>\n    <tr>\n      <th>3</th>\n      <td>2022-09-15 09:25:22+00:00</td>\n      <td>Isco pour marquer l’histoire de Séville https:...</td>\n      <td>Isco pour marquer l’histoire de Séville footba...</td>\n      <td>0</td>\n      <td>0</td>\n      <td>0</td>\n      <td>0</td>\n      <td>[https://t.co/UWkrp6yBg4]</td>\n      <td>None</td>\n      <td>Isco pour marquer l’histoire de Séville</td>\n      <td>https://t.co/UWkrp6yBg4</td>\n    </tr>\n    <tr>\n      <th>4</th>\n      <td>2022-09-15 09:24:18+00:00</td>\n      <td>Après sa célébration clown, Neymar pète un câb...</td>\n      <td>Après sa célébration clown, Neymar pète un câb...</td>\n      <td>0</td>\n      <td>0</td>\n      <td>2</td>\n      <td>0</td>\n      <td>[https://t.co/VTQ3XlJ4hT]</td>\n      <td>None</td>\n      <td>Après sa célébration clown, Neymar pète un câble</td>\n      <td>https://t.co/VTQ3XlJ4hT</td>\n    </tr>\n    <tr>\n      <th>...</th>\n      <td>...</td>\n      <td>...</td>\n      <td>...</td>\n      <td>...</td>\n      <td>...</td>\n      <td>...</td>\n      <td>...</td>\n      <td>...</td>\n      <td>...</td>\n      <td>...</td>\n      <td>...</td>\n    </tr>\n    <tr>\n      <th>49995</th>\n      <td>2015-07-12 20:40:24+00:00</td>\n      <td>Supercoupe : Le Zénith Saint-Pétersbourg vainq...</td>\n      <td>Supercoupe : Le Zénith Saint-Pétersbourg vainq...</td>\n      <td>0</td>\n      <td>2</td>\n      <td>0</td>\n      <td>0</td>\n      <td>[http://t.co/8kkio76k1A]</td>\n      <td>None</td>\n      <td>Supercoupe : Le Zénith Saint-Pétersbourg vainq...</td>\n      <td>http://t.co/8kkio76k1A</td>\n    </tr>\n    <tr>\n      <th>49996</th>\n      <td>2015-07-12 20:40:23+00:00</td>\n      <td>Bayern Munich : La présentation de Douglas Cos...</td>\n      <td>Bayern Munich : La présentation de Douglas Cos...</td>\n      <td>0</td>\n      <td>2</td>\n      <td>0</td>\n      <td>0</td>\n      <td>[http://t.co/jq4VWa7S8X]</td>\n      <td>None</td>\n      <td>Bayern Munich : La présentation de Douglas Cos...</td>\n      <td>http://t.co/jq4VWa7S8X</td>\n    </tr>\n    <tr>\n      <th>49997</th>\n      <td>2015-07-12 20:40:23+00:00</td>\n      <td>(Groupe A) : France - Grèce (2-0) http://t.co/...</td>\n      <td>(Groupe A) : France - Grèce (2-0) bit.ly/1fAxWQj</td>\n      <td>0</td>\n      <td>2</td>\n      <td>0</td>\n      <td>0</td>\n      <td>[http://t.co/J7g4kBhCZA]</td>\n      <td>None</td>\n      <td>(Groupe A) : France - Grèce (2-0) bit.ly/1fAxWQ</td>\n      <td>http://t.co/J7g4kBhCZA</td>\n    </tr>\n    <tr>\n      <th>49998</th>\n      <td>2015-07-12 20:40:23+00:00</td>\n      <td>Bayern Munich : Schweinsteiger explique son dé...</td>\n      <td>Bayern Munich : Schweinsteiger explique son dé...</td>\n      <td>0</td>\n      <td>2</td>\n      <td>0</td>\n      <td>0</td>\n      <td>[http://t.co/XEvsYWiG2u]</td>\n      <td>None</td>\n      <td>Bayern Munich : Schweinsteiger explique son dé...</td>\n      <td>http://t.co/XEvsYWiG2u</td>\n    </tr>\n    <tr>\n      <th>49999</th>\n      <td>2015-07-12 18:31:39+00:00</td>\n      <td>Argentine - River Plate et San Lorenzo font nu...</td>\n      <td>Argentine - River Plate et San Lorenzo font nu...</td>\n      <td>0</td>\n      <td>1</td>\n      <td>0</td>\n      <td>0</td>\n      <td>[http://t.co/hAjyIz4Ktj]</td>\n      <td>None</td>\n      <td>Argentine - River Plate et San Lorenzo font nu...</td>\n      <td>http://t.co/hAjyIz4Ktj</td>\n    </tr>\n  </tbody>\n</table>\n<p>46239 rows × 11 columns</p>\n</div>"
     },
     "execution_count": 74,
     "metadata": {},
     "output_type": "execute_result"
    }
   ],
   "source": [
    "foot365_data"
   ],
   "metadata": {
    "collapsed": false,
    "pycharm": {
     "name": "#%%\n"
    }
   }
  },
  {
   "cell_type": "code",
   "execution_count": 75,
   "outputs": [],
   "source": [
    "foot365_data.to_csv(f'{data_folder}/interim/foot365_clean.csv', index = False)"
   ],
   "metadata": {
    "collapsed": false,
    "pycharm": {
     "name": "#%%\n"
    }
   }
  },
  {
   "cell_type": "code",
   "execution_count": null,
   "outputs": [],
   "source": [],
   "metadata": {
    "collapsed": false,
    "pycharm": {
     "name": "#%%\n"
    }
   }
  }
 ],
 "metadata": {
  "kernelspec": {
   "display_name": "Python 3",
   "language": "python",
   "name": "python3"
  },
  "language_info": {
   "codemirror_mode": {
    "name": "ipython",
    "version": 2
   },
   "file_extension": ".py",
   "mimetype": "text/x-python",
   "name": "python",
   "nbconvert_exporter": "python",
   "pygments_lexer": "ipython2",
   "version": "2.7.6"
  }
 },
 "nbformat": 4,
 "nbformat_minor": 0
}