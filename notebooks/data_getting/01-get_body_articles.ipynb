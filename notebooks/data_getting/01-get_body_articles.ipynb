{
 "cells": [
  {
   "cell_type": "markdown",
   "source": [
    "# Get the body of articles\n",
    "The goal in this part is to get the body of each article in the differents data file"
   ],
   "metadata": {
    "collapsed": false,
    "pycharm": {
     "name": "#%% md\n"
    }
   }
  },
  {
   "cell_type": "markdown",
   "source": [
    "### 0. Import librairies and configurations"
   ],
   "metadata": {
    "collapsed": false,
    "pycharm": {
     "name": "#%% md\n"
    }
   }
  },
  {
   "cell_type": "code",
   "execution_count": 1,
   "outputs": [],
   "source": [
    "import pandas as pd\n",
    "from bs4 import BeautifulSoup as bs\n",
    "import requests\n",
    "import warnings"
   ],
   "metadata": {
    "collapsed": false,
    "pycharm": {
     "name": "#%%\n"
    }
   }
  },
  {
   "cell_type": "code",
   "execution_count": 2,
   "outputs": [],
   "source": [
    "warnings.filterwarnings('ignore') # ignore all warning\n",
    "\n",
    "data_folder = '../data'"
   ],
   "metadata": {
    "collapsed": false,
    "pycharm": {
     "name": "#%%\n"
    }
   }
  },
  {
   "cell_type": "markdown",
   "source": [
    "### 1. Scrap foot01 articles"
   ],
   "metadata": {
    "collapsed": false,
    "pycharm": {
     "name": "#%% md\n"
    }
   }
  },
  {
   "cell_type": "markdown",
   "source": [
    "##### Load data"
   ],
   "metadata": {
    "collapsed": false,
    "pycharm": {
     "name": "#%% md\n"
    }
   }
  },
  {
   "cell_type": "code",
   "execution_count": 3,
   "outputs": [
    {
     "data": {
      "text/plain": "                            date  \\\n44497  2019-07-10 16:26:07+00:00   \n47830  2019-04-26 10:43:33+00:00   \n32273  2020-04-27 12:02:33+00:00   \n24948  2020-11-10 20:31:03+00:00   \n19623  2021-03-27 12:00:34+00:00   \n\n                                                 content  \\\n44497  PSG : Thiago Motta et Paris, c'est officiellem...   \n47830  PSG : Ander Herrera, un nouveau club débarque ...   \n32273  ASSE : Ruffier prêt à poser un problème XXL à ...   \n24948  PSG : Alaba refuse 17 ME, Paris compte en prof...   \n19623  TV : Le procès de Pierre Ménès ? Nathalie Iann...   \n\n                                         renderedContent  replyCount  \\\n44497  PSG : Thiago Motta et Paris, c'est officiellem...           0   \n47830  PSG : Ander Herrera, un nouveau club débarque ...           0   \n32273  ASSE : Ruffier prêt à poser un problème XXL à ...           0   \n24948  PSG : Alaba refuse 17 ME, Paris compte en prof...           0   \n19623  TV : Le procès de Pierre Ménès ? Nathalie Iann...           0   \n\n       retweetCount  likeCount  quoteCount                  tcooutlinks  \\\n44497             0          0           0  ['https://t.co/JZvSUt73Kp']   \n47830             2          1           0  ['https://t.co/d1l4XgQUHk']   \n32273             0          1           0  ['https://t.co/gqmHbLZLMo']   \n24948             1          0           0  ['https://t.co/08274wkVUS']   \n19623             0          0           0  ['https://t.co/9JmtEeZf8Z']   \n\n       hashtags             article_link  \\\n44497  ['Foot']  https://t.co/JZvSUt73Kp   \n47830  ['Foot']  https://t.co/d1l4XgQUHk   \n32273  ['Foot']  https://t.co/gqmHbLZLMo   \n24948  ['Foot']  https://t.co/08274wkVUS   \n19623  ['Foot']  https://t.co/9JmtEeZf8Z   \n\n                                                headline  \n44497  PSG : Thiago Motta et Paris, c'est officiellem...  \n47830  PSG : Ander Herrera, un nouveau club débarque ...  \n32273  ASSE : Ruffier prêt à poser un problème XXL à ...  \n24948  PSG : Alaba refuse 17 ME, Paris compte en prof...  \n19623  TV : Le procès de Pierre Ménès ? Nathalie Iann...  ",
      "text/html": "<div>\n<style scoped>\n    .dataframe tbody tr th:only-of-type {\n        vertical-align: middle;\n    }\n\n    .dataframe tbody tr th {\n        vertical-align: top;\n    }\n\n    .dataframe thead th {\n        text-align: right;\n    }\n</style>\n<table border=\"1\" class=\"dataframe\">\n  <thead>\n    <tr style=\"text-align: right;\">\n      <th></th>\n      <th>date</th>\n      <th>content</th>\n      <th>renderedContent</th>\n      <th>replyCount</th>\n      <th>retweetCount</th>\n      <th>likeCount</th>\n      <th>quoteCount</th>\n      <th>tcooutlinks</th>\n      <th>hashtags</th>\n      <th>article_link</th>\n      <th>headline</th>\n    </tr>\n  </thead>\n  <tbody>\n    <tr>\n      <th>44497</th>\n      <td>2019-07-10 16:26:07+00:00</td>\n      <td>PSG : Thiago Motta et Paris, c'est officiellem...</td>\n      <td>PSG : Thiago Motta et Paris, c'est officiellem...</td>\n      <td>0</td>\n      <td>0</td>\n      <td>0</td>\n      <td>0</td>\n      <td>['https://t.co/JZvSUt73Kp']</td>\n      <td>['Foot']</td>\n      <td>https://t.co/JZvSUt73Kp</td>\n      <td>PSG : Thiago Motta et Paris, c'est officiellem...</td>\n    </tr>\n    <tr>\n      <th>47830</th>\n      <td>2019-04-26 10:43:33+00:00</td>\n      <td>PSG : Ander Herrera, un nouveau club débarque ...</td>\n      <td>PSG : Ander Herrera, un nouveau club débarque ...</td>\n      <td>0</td>\n      <td>2</td>\n      <td>1</td>\n      <td>0</td>\n      <td>['https://t.co/d1l4XgQUHk']</td>\n      <td>['Foot']</td>\n      <td>https://t.co/d1l4XgQUHk</td>\n      <td>PSG : Ander Herrera, un nouveau club débarque ...</td>\n    </tr>\n    <tr>\n      <th>32273</th>\n      <td>2020-04-27 12:02:33+00:00</td>\n      <td>ASSE : Ruffier prêt à poser un problème XXL à ...</td>\n      <td>ASSE : Ruffier prêt à poser un problème XXL à ...</td>\n      <td>0</td>\n      <td>0</td>\n      <td>1</td>\n      <td>0</td>\n      <td>['https://t.co/gqmHbLZLMo']</td>\n      <td>['Foot']</td>\n      <td>https://t.co/gqmHbLZLMo</td>\n      <td>ASSE : Ruffier prêt à poser un problème XXL à ...</td>\n    </tr>\n    <tr>\n      <th>24948</th>\n      <td>2020-11-10 20:31:03+00:00</td>\n      <td>PSG : Alaba refuse 17 ME, Paris compte en prof...</td>\n      <td>PSG : Alaba refuse 17 ME, Paris compte en prof...</td>\n      <td>0</td>\n      <td>1</td>\n      <td>0</td>\n      <td>0</td>\n      <td>['https://t.co/08274wkVUS']</td>\n      <td>['Foot']</td>\n      <td>https://t.co/08274wkVUS</td>\n      <td>PSG : Alaba refuse 17 ME, Paris compte en prof...</td>\n    </tr>\n    <tr>\n      <th>19623</th>\n      <td>2021-03-27 12:00:34+00:00</td>\n      <td>TV : Le procès de Pierre Ménès ? Nathalie Iann...</td>\n      <td>TV : Le procès de Pierre Ménès ? Nathalie Iann...</td>\n      <td>0</td>\n      <td>0</td>\n      <td>0</td>\n      <td>0</td>\n      <td>['https://t.co/9JmtEeZf8Z']</td>\n      <td>['Foot']</td>\n      <td>https://t.co/9JmtEeZf8Z</td>\n      <td>TV : Le procès de Pierre Ménès ? Nathalie Iann...</td>\n    </tr>\n  </tbody>\n</table>\n</div>"
     },
     "execution_count": 3,
     "metadata": {},
     "output_type": "execute_result"
    }
   ],
   "source": [
    "foot01 = pd.read_csv(f'{data_folder}/interim/foot01_clean.csv')\n",
    "foot01.sample(5)"
   ],
   "metadata": {
    "collapsed": false,
    "pycharm": {
     "name": "#%%\n"
    }
   }
  },
  {
   "cell_type": "code",
   "execution_count": 3,
   "outputs": [],
   "source": [],
   "metadata": {
    "collapsed": false,
    "pycharm": {
     "name": "#%%\n"
    }
   }
  },
  {
   "cell_type": "code",
   "execution_count": 49,
   "outputs": [],
   "source": [
    "def scrap_article_foot01(page_url):\n",
    "    response = requests.get(page_url)\n",
    "    page_obj = bs(response.content, 'lxml')\n",
    "    res = page_obj.find('div', class_ = 'the_post_content')\n",
    "    if res is not None:\n",
    "        res = res.get_text(strip = True)\n",
    "    return res"
   ],
   "metadata": {
    "collapsed": false,
    "pycharm": {
     "name": "#%%\n"
    }
   }
  },
  {
   "cell_type": "code",
   "execution_count": 50,
   "outputs": [
    {
     "name": "stdout",
     "output_type": "stream",
     "text": [
      "CPU times: total: 109 ms\n",
      "Wall time: 461 ms\n"
     ]
    },
    {
     "data": {
      "text/plain": "'Pour le moment, Sergio Ramos est très loin de pouvoir prétendre à disputer un gros match de Ligue des Champions avec le Paris SG.Depuis sa signature, il n’a été aligné qu’à une seule reprise, contre Saint-Etienne, et a depuis retrouvé l’infirmerie sans parvenir à reprendre l’entrainement collectif. Une situation inquiétante, d’autant que face aux Verts, l’Espagnol était apparu affuté et très en vue, démontrant qu’il allait avoir son mot à dire cette saison dans un secteur où le turnover est très limité. Si cette rechute fait oublier pour le moment la concurrence et l’enchainement des matchs pour le défenseur central, cela ne l’empêche pas de se fixer l’objectif d’être prêt pour le mois de février et les matchs couperets de C1. D’ailleurs, son ambition est même particulièrement ciblée à quelques heures du tirage au sort de la Ligue des Champions ce lundi. Selon la presse espagnole, Sergio Ramos rêve de voir lePSGaffronter le Real Madrid dès les 1/8e de finale, et ce pour plusieurs raisons.En guerre avec Florentino PérezVoir cette publication sur InstagramUne publication partagée par Sergio Ramos (@sergioramos)Tout d’abord car, en raison d’une fin de saison tronquée et de soucis physiques, il estime ne pas avoir pu faire les adieux qu’il méritait au peuple madrilène. Ensuite, il en veut terriblement au président Florentino Pérez, qui n’a pas voulu céder dans les négociations, et a fait machine arrière quand Sergio Ramos a changé d’avis sur ses exigences sur la durée de son contrat. Un bras de fer perdu pour Sergio Ramos qui semble l’avoir agacé au plus haut niveau. Et pour cela, il rêverait d’une vengeance terrible à Madrid, là où aura lieu le match retour en cas de confrontation entre les deux clubs. Nul doute en tout cas qu’une éventuelle confrontation entre le Real de Karim Benzema et le PSG de Sergio Ramos ferait des étincelles. Il faudra pour cela un tirage au sort farceur, et que le défenseur espagnol retrouve aussi prochainement ses pleines capacités. Surtout s’il veut faire regretter à tout Madrid de l’avoir laissé tomber l’été dernier.'"
     },
     "execution_count": 50,
     "metadata": {},
     "output_type": "execute_result"
    }
   ],
   "source": [
    "%%time\n",
    "\n",
    "scrap_article_foot01('https://t.co/B1EvVT7aFf')"
   ],
   "metadata": {
    "collapsed": false,
    "pycharm": {
     "name": "#%%\n"
    }
   }
  },
  {
   "cell_type": "code",
   "execution_count": 51,
   "outputs": [
    {
     "name": "stdout",
     "output_type": "stream",
     "text": [
      "CPU times: total: 7.5 s\n",
      "Wall time: 34.7 s\n"
     ]
    }
   ],
   "source": [
    "%%time\n",
    "content2000 = foot01[:100]['article_link'].apply(scrap_article_foot01)"
   ],
   "metadata": {
    "collapsed": false,
    "pycharm": {
     "name": "#%%\n"
    }
   }
  },
  {
   "cell_type": "code",
   "execution_count": 91,
   "outputs": [],
   "source": [
    "results = []\n",
    "pred = 0"
   ],
   "metadata": {
    "collapsed": false,
    "pycharm": {
     "name": "#%%\n"
    }
   }
  },
  {
   "cell_type": "code",
   "execution_count": 92,
   "outputs": [
    {
     "name": "stdout",
     "output_type": "stream",
     "text": [
      "0 -------> 100\n",
      "100 -------> 200\n",
      "200 -------> 300\n",
      "300 -------> 400\n",
      "400 -------> 500\n",
      "500 -------> 600\n",
      "600 -------> 700\n",
      "700 -------> 800\n",
      "800 -------> 900\n",
      "900 -------> 1000\n",
      "1000 -------> 1100\n",
      "1100 -------> 1200\n",
      "1200 -------> 1300\n",
      "1300 -------> 1400\n",
      "1400 -------> 1500\n",
      "1500 -------> 1600\n",
      "1600 -------> 1700\n",
      "1700 -------> 1800\n",
      "1800 -------> 1900\n",
      "1900 -------> 2000\n",
      "2000 -------> 2100\n",
      "2100 -------> 2200\n",
      "2200 -------> 2300\n",
      "2300 -------> 2400\n",
      "2400 -------> 2500\n",
      "2500 -------> 2600\n",
      "2600 -------> 2700\n",
      "2700 -------> 2800\n",
      "2800 -------> 2900\n",
      "2900 -------> 3000\n",
      "3000 -------> 3100\n",
      "3100 -------> 3200\n",
      "3200 -------> 3300\n",
      "3300 -------> 3400\n",
      "3400 -------> 3500\n",
      "3500 -------> 3600\n",
      "3600 -------> 3700\n",
      "3700 -------> 3800\n",
      "3800 -------> 3900\n",
      "3900 -------> 4000\n",
      "4000 -------> 4100\n",
      "4100 -------> 4200\n",
      "4200 -------> 4300\n",
      "4300 -------> 4400\n",
      "4400 -------> 4500\n",
      "4500 -------> 4600\n",
      "4600 -------> 4700\n",
      "4700 -------> 4800\n",
      "4800 -------> 4900\n",
      "4900 -------> 5000\n",
      "5000 -------> 5100\n",
      "5100 -------> 5200\n",
      "5200 -------> 5300\n",
      "5300 -------> 5400\n",
      "5400 -------> 5500\n",
      "5500 -------> 5600\n",
      "5600 -------> 5700\n",
      "5700 -------> 5800\n",
      "5800 -------> 5900\n",
      "5900 -------> 6000\n",
      "6000 -------> 6100\n",
      "6100 -------> 6200\n",
      "6200 -------> 6300\n",
      "6300 -------> 6400\n",
      "6400 -------> 6500\n",
      "6500 -------> 6600\n",
      "6600 -------> 6700\n",
      "6700 -------> 6800\n",
      "6800 -------> 6900\n",
      "6900 -------> 7000\n",
      "7000 -------> 7100\n",
      "7100 -------> 7200\n",
      "7200 -------> 7300\n",
      "7300 -------> 7400\n",
      "7400 -------> 7500\n",
      "7500 -------> 7600\n",
      "7600 -------> 7700\n",
      "7700 -------> 7800\n",
      "7800 -------> 7900\n",
      "7900 -------> 8000\n",
      "8000 -------> 8100\n",
      "8100 -------> 8200\n",
      "8200 -------> 8300\n",
      "8300 -------> 8400\n",
      "8400 -------> 8500\n",
      "8500 -------> 8600\n",
      "8600 -------> 8700\n",
      "8700 -------> 8800\n",
      "8800 -------> 8900\n",
      "8900 -------> 9000\n",
      "9000 -------> 9100\n",
      "9100 -------> 9200\n",
      "9200 -------> 9300\n",
      "9300 -------> 9400\n",
      "9400 -------> 9500\n",
      "9500 -------> 9600\n",
      "9600 -------> 9700\n",
      "9700 -------> 9800\n",
      "9800 -------> 9900\n",
      "9900 -------> 10000\n",
      "10000 -------> 10100\n",
      "10100 -------> 10200\n",
      "10200 -------> 10300\n",
      "10300 -------> 10400\n",
      "10400 -------> 10500\n",
      "10500 -------> 10600\n",
      "10600 -------> 10700\n",
      "10700 -------> 10800\n",
      "10800 -------> 10900\n",
      "10900 -------> 11000\n",
      "11000 -------> 11100\n",
      "11100 -------> 11200\n",
      "11200 -------> 11300\n",
      "11300 -------> 11400\n",
      "11400 -------> 11500\n",
      "11500 -------> 11600\n",
      "11600 -------> 11700\n",
      "11700 -------> 11800\n",
      "11800 -------> 11900\n",
      "11900 -------> 12000\n"
     ]
    },
    {
     "ename": "ConnectionError",
     "evalue": "HTTPSConnectionPool(host='www.foot01.com', port=443): Max retries exceeded with url: /equipe/paris/neymar-et-jerome-rothen-ca-balance-des-secrets-388841?utm_campaign=post-auto&utm_medium=twitter (Caused by NewConnectionError('<urllib3.connection.HTTPSConnection object at 0x000001600CE7A370>: Failed to establish a new connection: [WinError 10060] Une tentative de connexion a échoué car le parti connecté n’a pas répondu convenablement au-delà d’une certaine durée ou une connexion établie a échoué car l’hôte de connexion n’a pas répondu'))",
     "output_type": "error",
     "traceback": [
      "\u001B[1;31m---------------------------------------------------------------------------\u001B[0m",
      "\u001B[1;31mTimeoutError\u001B[0m                              Traceback (most recent call last)",
      "File \u001B[1;32m~\\anaconda3\\envs\\foot_bait_blocker_env\\lib\\site-packages\\urllib3\\connection.py:174\u001B[0m, in \u001B[0;36mHTTPConnection._new_conn\u001B[1;34m(self)\u001B[0m\n\u001B[0;32m    173\u001B[0m \u001B[38;5;28;01mtry\u001B[39;00m:\n\u001B[1;32m--> 174\u001B[0m     conn \u001B[38;5;241m=\u001B[39m connection\u001B[38;5;241m.\u001B[39mcreate_connection(\n\u001B[0;32m    175\u001B[0m         (\u001B[38;5;28mself\u001B[39m\u001B[38;5;241m.\u001B[39m_dns_host, \u001B[38;5;28mself\u001B[39m\u001B[38;5;241m.\u001B[39mport), \u001B[38;5;28mself\u001B[39m\u001B[38;5;241m.\u001B[39mtimeout, \u001B[38;5;241m*\u001B[39m\u001B[38;5;241m*\u001B[39mextra_kw\n\u001B[0;32m    176\u001B[0m     )\n\u001B[0;32m    178\u001B[0m \u001B[38;5;28;01mexcept\u001B[39;00m SocketTimeout:\n",
      "File \u001B[1;32m~\\anaconda3\\envs\\foot_bait_blocker_env\\lib\\site-packages\\urllib3\\util\\connection.py:95\u001B[0m, in \u001B[0;36mcreate_connection\u001B[1;34m(address, timeout, source_address, socket_options)\u001B[0m\n\u001B[0;32m     94\u001B[0m \u001B[38;5;28;01mif\u001B[39;00m err \u001B[38;5;129;01mis\u001B[39;00m \u001B[38;5;129;01mnot\u001B[39;00m \u001B[38;5;28;01mNone\u001B[39;00m:\n\u001B[1;32m---> 95\u001B[0m     \u001B[38;5;28;01mraise\u001B[39;00m err\n\u001B[0;32m     97\u001B[0m \u001B[38;5;28;01mraise\u001B[39;00m socket\u001B[38;5;241m.\u001B[39merror(\u001B[38;5;124m\"\u001B[39m\u001B[38;5;124mgetaddrinfo returns an empty list\u001B[39m\u001B[38;5;124m\"\u001B[39m)\n",
      "File \u001B[1;32m~\\anaconda3\\envs\\foot_bait_blocker_env\\lib\\site-packages\\urllib3\\util\\connection.py:85\u001B[0m, in \u001B[0;36mcreate_connection\u001B[1;34m(address, timeout, source_address, socket_options)\u001B[0m\n\u001B[0;32m     84\u001B[0m     sock\u001B[38;5;241m.\u001B[39mbind(source_address)\n\u001B[1;32m---> 85\u001B[0m \u001B[43msock\u001B[49m\u001B[38;5;241;43m.\u001B[39;49m\u001B[43mconnect\u001B[49m\u001B[43m(\u001B[49m\u001B[43msa\u001B[49m\u001B[43m)\u001B[49m\n\u001B[0;32m     86\u001B[0m \u001B[38;5;28;01mreturn\u001B[39;00m sock\n",
      "\u001B[1;31mTimeoutError\u001B[0m: [WinError 10060] Une tentative de connexion a échoué car le parti connecté n’a pas répondu convenablement au-delà d’une certaine durée ou une connexion établie a échoué car l’hôte de connexion n’a pas répondu",
      "\nDuring handling of the above exception, another exception occurred:\n",
      "\u001B[1;31mNewConnectionError\u001B[0m                        Traceback (most recent call last)",
      "File \u001B[1;32m~\\anaconda3\\envs\\foot_bait_blocker_env\\lib\\site-packages\\urllib3\\connectionpool.py:703\u001B[0m, in \u001B[0;36mHTTPConnectionPool.urlopen\u001B[1;34m(self, method, url, body, headers, retries, redirect, assert_same_host, timeout, pool_timeout, release_conn, chunked, body_pos, **response_kw)\u001B[0m\n\u001B[0;32m    702\u001B[0m \u001B[38;5;66;03m# Make the request on the httplib connection object.\u001B[39;00m\n\u001B[1;32m--> 703\u001B[0m httplib_response \u001B[38;5;241m=\u001B[39m \u001B[38;5;28;43mself\u001B[39;49m\u001B[38;5;241;43m.\u001B[39;49m\u001B[43m_make_request\u001B[49m\u001B[43m(\u001B[49m\n\u001B[0;32m    704\u001B[0m \u001B[43m    \u001B[49m\u001B[43mconn\u001B[49m\u001B[43m,\u001B[49m\n\u001B[0;32m    705\u001B[0m \u001B[43m    \u001B[49m\u001B[43mmethod\u001B[49m\u001B[43m,\u001B[49m\n\u001B[0;32m    706\u001B[0m \u001B[43m    \u001B[49m\u001B[43murl\u001B[49m\u001B[43m,\u001B[49m\n\u001B[0;32m    707\u001B[0m \u001B[43m    \u001B[49m\u001B[43mtimeout\u001B[49m\u001B[38;5;241;43m=\u001B[39;49m\u001B[43mtimeout_obj\u001B[49m\u001B[43m,\u001B[49m\n\u001B[0;32m    708\u001B[0m \u001B[43m    \u001B[49m\u001B[43mbody\u001B[49m\u001B[38;5;241;43m=\u001B[39;49m\u001B[43mbody\u001B[49m\u001B[43m,\u001B[49m\n\u001B[0;32m    709\u001B[0m \u001B[43m    \u001B[49m\u001B[43mheaders\u001B[49m\u001B[38;5;241;43m=\u001B[39;49m\u001B[43mheaders\u001B[49m\u001B[43m,\u001B[49m\n\u001B[0;32m    710\u001B[0m \u001B[43m    \u001B[49m\u001B[43mchunked\u001B[49m\u001B[38;5;241;43m=\u001B[39;49m\u001B[43mchunked\u001B[49m\u001B[43m,\u001B[49m\n\u001B[0;32m    711\u001B[0m \u001B[43m\u001B[49m\u001B[43m)\u001B[49m\n\u001B[0;32m    713\u001B[0m \u001B[38;5;66;03m# If we're going to release the connection in ``finally:``, then\u001B[39;00m\n\u001B[0;32m    714\u001B[0m \u001B[38;5;66;03m# the response doesn't need to know about the connection. Otherwise\u001B[39;00m\n\u001B[0;32m    715\u001B[0m \u001B[38;5;66;03m# it will also try to release it and we'll have a double-release\u001B[39;00m\n\u001B[0;32m    716\u001B[0m \u001B[38;5;66;03m# mess.\u001B[39;00m\n",
      "File \u001B[1;32m~\\anaconda3\\envs\\foot_bait_blocker_env\\lib\\site-packages\\urllib3\\connectionpool.py:386\u001B[0m, in \u001B[0;36mHTTPConnectionPool._make_request\u001B[1;34m(self, conn, method, url, timeout, chunked, **httplib_request_kw)\u001B[0m\n\u001B[0;32m    385\u001B[0m \u001B[38;5;28;01mtry\u001B[39;00m:\n\u001B[1;32m--> 386\u001B[0m     \u001B[38;5;28;43mself\u001B[39;49m\u001B[38;5;241;43m.\u001B[39;49m\u001B[43m_validate_conn\u001B[49m\u001B[43m(\u001B[49m\u001B[43mconn\u001B[49m\u001B[43m)\u001B[49m\n\u001B[0;32m    387\u001B[0m \u001B[38;5;28;01mexcept\u001B[39;00m (SocketTimeout, BaseSSLError) \u001B[38;5;28;01mas\u001B[39;00m e:\n\u001B[0;32m    388\u001B[0m     \u001B[38;5;66;03m# Py2 raises this as a BaseSSLError, Py3 raises it as socket timeout.\u001B[39;00m\n",
      "File \u001B[1;32m~\\anaconda3\\envs\\foot_bait_blocker_env\\lib\\site-packages\\urllib3\\connectionpool.py:1042\u001B[0m, in \u001B[0;36mHTTPSConnectionPool._validate_conn\u001B[1;34m(self, conn)\u001B[0m\n\u001B[0;32m   1041\u001B[0m \u001B[38;5;28;01mif\u001B[39;00m \u001B[38;5;129;01mnot\u001B[39;00m \u001B[38;5;28mgetattr\u001B[39m(conn, \u001B[38;5;124m\"\u001B[39m\u001B[38;5;124msock\u001B[39m\u001B[38;5;124m\"\u001B[39m, \u001B[38;5;28;01mNone\u001B[39;00m):  \u001B[38;5;66;03m# AppEngine might not have  `.sock`\u001B[39;00m\n\u001B[1;32m-> 1042\u001B[0m     \u001B[43mconn\u001B[49m\u001B[38;5;241;43m.\u001B[39;49m\u001B[43mconnect\u001B[49m\u001B[43m(\u001B[49m\u001B[43m)\u001B[49m\n\u001B[0;32m   1044\u001B[0m \u001B[38;5;28;01mif\u001B[39;00m \u001B[38;5;129;01mnot\u001B[39;00m conn\u001B[38;5;241m.\u001B[39mis_verified:\n",
      "File \u001B[1;32m~\\anaconda3\\envs\\foot_bait_blocker_env\\lib\\site-packages\\urllib3\\connection.py:358\u001B[0m, in \u001B[0;36mHTTPSConnection.connect\u001B[1;34m(self)\u001B[0m\n\u001B[0;32m    356\u001B[0m \u001B[38;5;28;01mdef\u001B[39;00m \u001B[38;5;21mconnect\u001B[39m(\u001B[38;5;28mself\u001B[39m):\n\u001B[0;32m    357\u001B[0m     \u001B[38;5;66;03m# Add certificate verification\u001B[39;00m\n\u001B[1;32m--> 358\u001B[0m     \u001B[38;5;28mself\u001B[39m\u001B[38;5;241m.\u001B[39msock \u001B[38;5;241m=\u001B[39m conn \u001B[38;5;241m=\u001B[39m \u001B[38;5;28;43mself\u001B[39;49m\u001B[38;5;241;43m.\u001B[39;49m\u001B[43m_new_conn\u001B[49m\u001B[43m(\u001B[49m\u001B[43m)\u001B[49m\n\u001B[0;32m    359\u001B[0m     hostname \u001B[38;5;241m=\u001B[39m \u001B[38;5;28mself\u001B[39m\u001B[38;5;241m.\u001B[39mhost\n",
      "File \u001B[1;32m~\\anaconda3\\envs\\foot_bait_blocker_env\\lib\\site-packages\\urllib3\\connection.py:186\u001B[0m, in \u001B[0;36mHTTPConnection._new_conn\u001B[1;34m(self)\u001B[0m\n\u001B[0;32m    185\u001B[0m \u001B[38;5;28;01mexcept\u001B[39;00m SocketError \u001B[38;5;28;01mas\u001B[39;00m e:\n\u001B[1;32m--> 186\u001B[0m     \u001B[38;5;28;01mraise\u001B[39;00m NewConnectionError(\n\u001B[0;32m    187\u001B[0m         \u001B[38;5;28mself\u001B[39m, \u001B[38;5;124m\"\u001B[39m\u001B[38;5;124mFailed to establish a new connection: \u001B[39m\u001B[38;5;132;01m%s\u001B[39;00m\u001B[38;5;124m\"\u001B[39m \u001B[38;5;241m%\u001B[39m e\n\u001B[0;32m    188\u001B[0m     )\n\u001B[0;32m    190\u001B[0m \u001B[38;5;28;01mreturn\u001B[39;00m conn\n",
      "\u001B[1;31mNewConnectionError\u001B[0m: <urllib3.connection.HTTPSConnection object at 0x000001600CE7A370>: Failed to establish a new connection: [WinError 10060] Une tentative de connexion a échoué car le parti connecté n’a pas répondu convenablement au-delà d’une certaine durée ou une connexion établie a échoué car l’hôte de connexion n’a pas répondu",
      "\nDuring handling of the above exception, another exception occurred:\n",
      "\u001B[1;31mMaxRetryError\u001B[0m                             Traceback (most recent call last)",
      "File \u001B[1;32m~\\anaconda3\\envs\\foot_bait_blocker_env\\lib\\site-packages\\requests\\adapters.py:489\u001B[0m, in \u001B[0;36mHTTPAdapter.send\u001B[1;34m(self, request, stream, timeout, verify, cert, proxies)\u001B[0m\n\u001B[0;32m    488\u001B[0m \u001B[38;5;28;01mif\u001B[39;00m \u001B[38;5;129;01mnot\u001B[39;00m chunked:\n\u001B[1;32m--> 489\u001B[0m     resp \u001B[38;5;241m=\u001B[39m \u001B[43mconn\u001B[49m\u001B[38;5;241;43m.\u001B[39;49m\u001B[43murlopen\u001B[49m\u001B[43m(\u001B[49m\n\u001B[0;32m    490\u001B[0m \u001B[43m        \u001B[49m\u001B[43mmethod\u001B[49m\u001B[38;5;241;43m=\u001B[39;49m\u001B[43mrequest\u001B[49m\u001B[38;5;241;43m.\u001B[39;49m\u001B[43mmethod\u001B[49m\u001B[43m,\u001B[49m\n\u001B[0;32m    491\u001B[0m \u001B[43m        \u001B[49m\u001B[43murl\u001B[49m\u001B[38;5;241;43m=\u001B[39;49m\u001B[43murl\u001B[49m\u001B[43m,\u001B[49m\n\u001B[0;32m    492\u001B[0m \u001B[43m        \u001B[49m\u001B[43mbody\u001B[49m\u001B[38;5;241;43m=\u001B[39;49m\u001B[43mrequest\u001B[49m\u001B[38;5;241;43m.\u001B[39;49m\u001B[43mbody\u001B[49m\u001B[43m,\u001B[49m\n\u001B[0;32m    493\u001B[0m \u001B[43m        \u001B[49m\u001B[43mheaders\u001B[49m\u001B[38;5;241;43m=\u001B[39;49m\u001B[43mrequest\u001B[49m\u001B[38;5;241;43m.\u001B[39;49m\u001B[43mheaders\u001B[49m\u001B[43m,\u001B[49m\n\u001B[0;32m    494\u001B[0m \u001B[43m        \u001B[49m\u001B[43mredirect\u001B[49m\u001B[38;5;241;43m=\u001B[39;49m\u001B[38;5;28;43;01mFalse\u001B[39;49;00m\u001B[43m,\u001B[49m\n\u001B[0;32m    495\u001B[0m \u001B[43m        \u001B[49m\u001B[43massert_same_host\u001B[49m\u001B[38;5;241;43m=\u001B[39;49m\u001B[38;5;28;43;01mFalse\u001B[39;49;00m\u001B[43m,\u001B[49m\n\u001B[0;32m    496\u001B[0m \u001B[43m        \u001B[49m\u001B[43mpreload_content\u001B[49m\u001B[38;5;241;43m=\u001B[39;49m\u001B[38;5;28;43;01mFalse\u001B[39;49;00m\u001B[43m,\u001B[49m\n\u001B[0;32m    497\u001B[0m \u001B[43m        \u001B[49m\u001B[43mdecode_content\u001B[49m\u001B[38;5;241;43m=\u001B[39;49m\u001B[38;5;28;43;01mFalse\u001B[39;49;00m\u001B[43m,\u001B[49m\n\u001B[0;32m    498\u001B[0m \u001B[43m        \u001B[49m\u001B[43mretries\u001B[49m\u001B[38;5;241;43m=\u001B[39;49m\u001B[38;5;28;43mself\u001B[39;49m\u001B[38;5;241;43m.\u001B[39;49m\u001B[43mmax_retries\u001B[49m\u001B[43m,\u001B[49m\n\u001B[0;32m    499\u001B[0m \u001B[43m        \u001B[49m\u001B[43mtimeout\u001B[49m\u001B[38;5;241;43m=\u001B[39;49m\u001B[43mtimeout\u001B[49m\u001B[43m,\u001B[49m\n\u001B[0;32m    500\u001B[0m \u001B[43m    \u001B[49m\u001B[43m)\u001B[49m\n\u001B[0;32m    502\u001B[0m \u001B[38;5;66;03m# Send the request.\u001B[39;00m\n\u001B[0;32m    503\u001B[0m \u001B[38;5;28;01melse\u001B[39;00m:\n",
      "File \u001B[1;32m~\\anaconda3\\envs\\foot_bait_blocker_env\\lib\\site-packages\\urllib3\\connectionpool.py:787\u001B[0m, in \u001B[0;36mHTTPConnectionPool.urlopen\u001B[1;34m(self, method, url, body, headers, retries, redirect, assert_same_host, timeout, pool_timeout, release_conn, chunked, body_pos, **response_kw)\u001B[0m\n\u001B[0;32m    785\u001B[0m     e \u001B[38;5;241m=\u001B[39m ProtocolError(\u001B[38;5;124m\"\u001B[39m\u001B[38;5;124mConnection aborted.\u001B[39m\u001B[38;5;124m\"\u001B[39m, e)\n\u001B[1;32m--> 787\u001B[0m retries \u001B[38;5;241m=\u001B[39m \u001B[43mretries\u001B[49m\u001B[38;5;241;43m.\u001B[39;49m\u001B[43mincrement\u001B[49m\u001B[43m(\u001B[49m\n\u001B[0;32m    788\u001B[0m \u001B[43m    \u001B[49m\u001B[43mmethod\u001B[49m\u001B[43m,\u001B[49m\u001B[43m \u001B[49m\u001B[43murl\u001B[49m\u001B[43m,\u001B[49m\u001B[43m \u001B[49m\u001B[43merror\u001B[49m\u001B[38;5;241;43m=\u001B[39;49m\u001B[43me\u001B[49m\u001B[43m,\u001B[49m\u001B[43m \u001B[49m\u001B[43m_pool\u001B[49m\u001B[38;5;241;43m=\u001B[39;49m\u001B[38;5;28;43mself\u001B[39;49m\u001B[43m,\u001B[49m\u001B[43m \u001B[49m\u001B[43m_stacktrace\u001B[49m\u001B[38;5;241;43m=\u001B[39;49m\u001B[43msys\u001B[49m\u001B[38;5;241;43m.\u001B[39;49m\u001B[43mexc_info\u001B[49m\u001B[43m(\u001B[49m\u001B[43m)\u001B[49m\u001B[43m[\u001B[49m\u001B[38;5;241;43m2\u001B[39;49m\u001B[43m]\u001B[49m\n\u001B[0;32m    789\u001B[0m \u001B[43m\u001B[49m\u001B[43m)\u001B[49m\n\u001B[0;32m    790\u001B[0m retries\u001B[38;5;241m.\u001B[39msleep()\n",
      "File \u001B[1;32m~\\anaconda3\\envs\\foot_bait_blocker_env\\lib\\site-packages\\urllib3\\util\\retry.py:592\u001B[0m, in \u001B[0;36mRetry.increment\u001B[1;34m(self, method, url, response, error, _pool, _stacktrace)\u001B[0m\n\u001B[0;32m    591\u001B[0m \u001B[38;5;28;01mif\u001B[39;00m new_retry\u001B[38;5;241m.\u001B[39mis_exhausted():\n\u001B[1;32m--> 592\u001B[0m     \u001B[38;5;28;01mraise\u001B[39;00m MaxRetryError(_pool, url, error \u001B[38;5;129;01mor\u001B[39;00m ResponseError(cause))\n\u001B[0;32m    594\u001B[0m log\u001B[38;5;241m.\u001B[39mdebug(\u001B[38;5;124m\"\u001B[39m\u001B[38;5;124mIncremented Retry for (url=\u001B[39m\u001B[38;5;124m'\u001B[39m\u001B[38;5;132;01m%s\u001B[39;00m\u001B[38;5;124m'\u001B[39m\u001B[38;5;124m): \u001B[39m\u001B[38;5;132;01m%r\u001B[39;00m\u001B[38;5;124m\"\u001B[39m, url, new_retry)\n",
      "\u001B[1;31mMaxRetryError\u001B[0m: HTTPSConnectionPool(host='www.foot01.com', port=443): Max retries exceeded with url: /equipe/paris/neymar-et-jerome-rothen-ca-balance-des-secrets-388841?utm_campaign=post-auto&utm_medium=twitter (Caused by NewConnectionError('<urllib3.connection.HTTPSConnection object at 0x000001600CE7A370>: Failed to establish a new connection: [WinError 10060] Une tentative de connexion a échoué car le parti connecté n’a pas répondu convenablement au-delà d’une certaine durée ou une connexion établie a échoué car l’hôte de connexion n’a pas répondu'))",
      "\nDuring handling of the above exception, another exception occurred:\n",
      "\u001B[1;31mConnectionError\u001B[0m                           Traceback (most recent call last)",
      "Input \u001B[1;32mIn [92]\u001B[0m, in \u001B[0;36m<cell line: 2>\u001B[1;34m()\u001B[0m\n\u001B[0;32m      1\u001B[0m pred \u001B[38;5;241m=\u001B[39m \u001B[38;5;241m0\u001B[39m\n\u001B[0;32m      2\u001B[0m \u001B[38;5;28;01mfor\u001B[39;00m i \u001B[38;5;129;01min\u001B[39;00m \u001B[38;5;28mrange\u001B[39m(\u001B[38;5;241m100\u001B[39m, \u001B[38;5;241m15000\u001B[39m, \u001B[38;5;241m100\u001B[39m):\n\u001B[1;32m----> 3\u001B[0m     results\u001B[38;5;241m.\u001B[39mappend( \u001B[43mfoot01\u001B[49m\u001B[43m[\u001B[49m\u001B[43mpred\u001B[49m\u001B[43m:\u001B[49m\u001B[43mi\u001B[49m\u001B[43m]\u001B[49m\u001B[43m[\u001B[49m\u001B[38;5;124;43m'\u001B[39;49m\u001B[38;5;124;43marticle_link\u001B[39;49m\u001B[38;5;124;43m'\u001B[39;49m\u001B[43m]\u001B[49m\u001B[38;5;241;43m.\u001B[39;49m\u001B[43mapply\u001B[49m\u001B[43m(\u001B[49m\u001B[43mscrap_article_foot01\u001B[49m\u001B[43m)\u001B[49m )\n\u001B[0;32m      4\u001B[0m     \u001B[38;5;28mprint\u001B[39m(\u001B[38;5;124mf\u001B[39m\u001B[38;5;124m'\u001B[39m\u001B[38;5;132;01m{\u001B[39;00mpred\u001B[38;5;132;01m}\u001B[39;00m\u001B[38;5;124m -------> \u001B[39m\u001B[38;5;132;01m{\u001B[39;00mi\u001B[38;5;132;01m}\u001B[39;00m\u001B[38;5;124m'\u001B[39m)\n\u001B[0;32m      5\u001B[0m     pred \u001B[38;5;241m=\u001B[39m i\n",
      "File \u001B[1;32m~\\anaconda3\\envs\\foot_bait_blocker_env\\lib\\site-packages\\pandas\\core\\series.py:4433\u001B[0m, in \u001B[0;36mSeries.apply\u001B[1;34m(self, func, convert_dtype, args, **kwargs)\u001B[0m\n\u001B[0;32m   4323\u001B[0m \u001B[38;5;28;01mdef\u001B[39;00m \u001B[38;5;21mapply\u001B[39m(\n\u001B[0;32m   4324\u001B[0m     \u001B[38;5;28mself\u001B[39m,\n\u001B[0;32m   4325\u001B[0m     func: AggFuncType,\n\u001B[1;32m   (...)\u001B[0m\n\u001B[0;32m   4328\u001B[0m     \u001B[38;5;241m*\u001B[39m\u001B[38;5;241m*\u001B[39mkwargs,\n\u001B[0;32m   4329\u001B[0m ) \u001B[38;5;241m-\u001B[39m\u001B[38;5;241m>\u001B[39m DataFrame \u001B[38;5;241m|\u001B[39m Series:\n\u001B[0;32m   4330\u001B[0m     \u001B[38;5;124;03m\"\"\"\u001B[39;00m\n\u001B[0;32m   4331\u001B[0m \u001B[38;5;124;03m    Invoke function on values of Series.\u001B[39;00m\n\u001B[0;32m   4332\u001B[0m \n\u001B[1;32m   (...)\u001B[0m\n\u001B[0;32m   4431\u001B[0m \u001B[38;5;124;03m    dtype: float64\u001B[39;00m\n\u001B[0;32m   4432\u001B[0m \u001B[38;5;124;03m    \"\"\"\u001B[39;00m\n\u001B[1;32m-> 4433\u001B[0m     \u001B[38;5;28;01mreturn\u001B[39;00m \u001B[43mSeriesApply\u001B[49m\u001B[43m(\u001B[49m\u001B[38;5;28;43mself\u001B[39;49m\u001B[43m,\u001B[49m\u001B[43m \u001B[49m\u001B[43mfunc\u001B[49m\u001B[43m,\u001B[49m\u001B[43m \u001B[49m\u001B[43mconvert_dtype\u001B[49m\u001B[43m,\u001B[49m\u001B[43m \u001B[49m\u001B[43margs\u001B[49m\u001B[43m,\u001B[49m\u001B[43m \u001B[49m\u001B[43mkwargs\u001B[49m\u001B[43m)\u001B[49m\u001B[38;5;241;43m.\u001B[39;49m\u001B[43mapply\u001B[49m\u001B[43m(\u001B[49m\u001B[43m)\u001B[49m\n",
      "File \u001B[1;32m~\\anaconda3\\envs\\foot_bait_blocker_env\\lib\\site-packages\\pandas\\core\\apply.py:1088\u001B[0m, in \u001B[0;36mSeriesApply.apply\u001B[1;34m(self)\u001B[0m\n\u001B[0;32m   1084\u001B[0m \u001B[38;5;28;01mif\u001B[39;00m \u001B[38;5;28misinstance\u001B[39m(\u001B[38;5;28mself\u001B[39m\u001B[38;5;241m.\u001B[39mf, \u001B[38;5;28mstr\u001B[39m):\n\u001B[0;32m   1085\u001B[0m     \u001B[38;5;66;03m# if we are a string, try to dispatch\u001B[39;00m\n\u001B[0;32m   1086\u001B[0m     \u001B[38;5;28;01mreturn\u001B[39;00m \u001B[38;5;28mself\u001B[39m\u001B[38;5;241m.\u001B[39mapply_str()\n\u001B[1;32m-> 1088\u001B[0m \u001B[38;5;28;01mreturn\u001B[39;00m \u001B[38;5;28;43mself\u001B[39;49m\u001B[38;5;241;43m.\u001B[39;49m\u001B[43mapply_standard\u001B[49m\u001B[43m(\u001B[49m\u001B[43m)\u001B[49m\n",
      "File \u001B[1;32m~\\anaconda3\\envs\\foot_bait_blocker_env\\lib\\site-packages\\pandas\\core\\apply.py:1143\u001B[0m, in \u001B[0;36mSeriesApply.apply_standard\u001B[1;34m(self)\u001B[0m\n\u001B[0;32m   1137\u001B[0m         values \u001B[38;5;241m=\u001B[39m obj\u001B[38;5;241m.\u001B[39mastype(\u001B[38;5;28mobject\u001B[39m)\u001B[38;5;241m.\u001B[39m_values\n\u001B[0;32m   1138\u001B[0m         \u001B[38;5;66;03m# error: Argument 2 to \"map_infer\" has incompatible type\u001B[39;00m\n\u001B[0;32m   1139\u001B[0m         \u001B[38;5;66;03m# \"Union[Callable[..., Any], str, List[Union[Callable[..., Any], str]],\u001B[39;00m\n\u001B[0;32m   1140\u001B[0m         \u001B[38;5;66;03m# Dict[Hashable, Union[Union[Callable[..., Any], str],\u001B[39;00m\n\u001B[0;32m   1141\u001B[0m         \u001B[38;5;66;03m# List[Union[Callable[..., Any], str]]]]]\"; expected\u001B[39;00m\n\u001B[0;32m   1142\u001B[0m         \u001B[38;5;66;03m# \"Callable[[Any], Any]\"\u001B[39;00m\n\u001B[1;32m-> 1143\u001B[0m         mapped \u001B[38;5;241m=\u001B[39m \u001B[43mlib\u001B[49m\u001B[38;5;241;43m.\u001B[39;49m\u001B[43mmap_infer\u001B[49m\u001B[43m(\u001B[49m\n\u001B[0;32m   1144\u001B[0m \u001B[43m            \u001B[49m\u001B[43mvalues\u001B[49m\u001B[43m,\u001B[49m\n\u001B[0;32m   1145\u001B[0m \u001B[43m            \u001B[49m\u001B[43mf\u001B[49m\u001B[43m,\u001B[49m\u001B[43m  \u001B[49m\u001B[38;5;66;43;03m# type: ignore[arg-type]\u001B[39;49;00m\n\u001B[0;32m   1146\u001B[0m \u001B[43m            \u001B[49m\u001B[43mconvert\u001B[49m\u001B[38;5;241;43m=\u001B[39;49m\u001B[38;5;28;43mself\u001B[39;49m\u001B[38;5;241;43m.\u001B[39;49m\u001B[43mconvert_dtype\u001B[49m\u001B[43m,\u001B[49m\n\u001B[0;32m   1147\u001B[0m \u001B[43m        \u001B[49m\u001B[43m)\u001B[49m\n\u001B[0;32m   1149\u001B[0m \u001B[38;5;28;01mif\u001B[39;00m \u001B[38;5;28mlen\u001B[39m(mapped) \u001B[38;5;129;01mand\u001B[39;00m \u001B[38;5;28misinstance\u001B[39m(mapped[\u001B[38;5;241m0\u001B[39m], ABCSeries):\n\u001B[0;32m   1150\u001B[0m     \u001B[38;5;66;03m# GH#43986 Need to do list(mapped) in order to get treated as nested\u001B[39;00m\n\u001B[0;32m   1151\u001B[0m     \u001B[38;5;66;03m#  See also GH#25959 regarding EA support\u001B[39;00m\n\u001B[0;32m   1152\u001B[0m     \u001B[38;5;28;01mreturn\u001B[39;00m obj\u001B[38;5;241m.\u001B[39m_constructor_expanddim(\u001B[38;5;28mlist\u001B[39m(mapped), index\u001B[38;5;241m=\u001B[39mobj\u001B[38;5;241m.\u001B[39mindex)\n",
      "File \u001B[1;32m~\\anaconda3\\envs\\foot_bait_blocker_env\\lib\\site-packages\\pandas\\_libs\\lib.pyx:2870\u001B[0m, in \u001B[0;36mpandas._libs.lib.map_infer\u001B[1;34m()\u001B[0m\n",
      "Input \u001B[1;32mIn [49]\u001B[0m, in \u001B[0;36mscrap_article_foot01\u001B[1;34m(page_url)\u001B[0m\n\u001B[0;32m      1\u001B[0m \u001B[38;5;28;01mdef\u001B[39;00m \u001B[38;5;21mscrap_article_foot01\u001B[39m(page_url):\n\u001B[1;32m----> 2\u001B[0m     response \u001B[38;5;241m=\u001B[39m \u001B[43mrequests\u001B[49m\u001B[38;5;241;43m.\u001B[39;49m\u001B[43mget\u001B[49m\u001B[43m(\u001B[49m\u001B[43mpage_url\u001B[49m\u001B[43m)\u001B[49m\n\u001B[0;32m      3\u001B[0m     page_obj \u001B[38;5;241m=\u001B[39m bs(response\u001B[38;5;241m.\u001B[39mcontent, \u001B[38;5;124m'\u001B[39m\u001B[38;5;124mlxml\u001B[39m\u001B[38;5;124m'\u001B[39m)\n\u001B[0;32m      4\u001B[0m     res \u001B[38;5;241m=\u001B[39m page_obj\u001B[38;5;241m.\u001B[39mfind(\u001B[38;5;124m'\u001B[39m\u001B[38;5;124mdiv\u001B[39m\u001B[38;5;124m'\u001B[39m, class_ \u001B[38;5;241m=\u001B[39m \u001B[38;5;124m'\u001B[39m\u001B[38;5;124mthe_post_content\u001B[39m\u001B[38;5;124m'\u001B[39m)\n",
      "File \u001B[1;32m~\\anaconda3\\envs\\foot_bait_blocker_env\\lib\\site-packages\\requests\\api.py:73\u001B[0m, in \u001B[0;36mget\u001B[1;34m(url, params, **kwargs)\u001B[0m\n\u001B[0;32m     62\u001B[0m \u001B[38;5;28;01mdef\u001B[39;00m \u001B[38;5;21mget\u001B[39m(url, params\u001B[38;5;241m=\u001B[39m\u001B[38;5;28;01mNone\u001B[39;00m, \u001B[38;5;241m*\u001B[39m\u001B[38;5;241m*\u001B[39mkwargs):\n\u001B[0;32m     63\u001B[0m     \u001B[38;5;124mr\u001B[39m\u001B[38;5;124;03m\"\"\"Sends a GET request.\u001B[39;00m\n\u001B[0;32m     64\u001B[0m \n\u001B[0;32m     65\u001B[0m \u001B[38;5;124;03m    :param url: URL for the new :class:`Request` object.\u001B[39;00m\n\u001B[1;32m   (...)\u001B[0m\n\u001B[0;32m     70\u001B[0m \u001B[38;5;124;03m    :rtype: requests.Response\u001B[39;00m\n\u001B[0;32m     71\u001B[0m \u001B[38;5;124;03m    \"\"\"\u001B[39;00m\n\u001B[1;32m---> 73\u001B[0m     \u001B[38;5;28;01mreturn\u001B[39;00m request(\u001B[38;5;124m\"\u001B[39m\u001B[38;5;124mget\u001B[39m\u001B[38;5;124m\"\u001B[39m, url, params\u001B[38;5;241m=\u001B[39mparams, \u001B[38;5;241m*\u001B[39m\u001B[38;5;241m*\u001B[39mkwargs)\n",
      "File \u001B[1;32m~\\anaconda3\\envs\\foot_bait_blocker_env\\lib\\site-packages\\requests\\api.py:59\u001B[0m, in \u001B[0;36mrequest\u001B[1;34m(method, url, **kwargs)\u001B[0m\n\u001B[0;32m     55\u001B[0m \u001B[38;5;66;03m# By using the 'with' statement we are sure the session is closed, thus we\u001B[39;00m\n\u001B[0;32m     56\u001B[0m \u001B[38;5;66;03m# avoid leaving sockets open which can trigger a ResourceWarning in some\u001B[39;00m\n\u001B[0;32m     57\u001B[0m \u001B[38;5;66;03m# cases, and look like a memory leak in others.\u001B[39;00m\n\u001B[0;32m     58\u001B[0m \u001B[38;5;28;01mwith\u001B[39;00m sessions\u001B[38;5;241m.\u001B[39mSession() \u001B[38;5;28;01mas\u001B[39;00m session:\n\u001B[1;32m---> 59\u001B[0m     \u001B[38;5;28;01mreturn\u001B[39;00m session\u001B[38;5;241m.\u001B[39mrequest(method\u001B[38;5;241m=\u001B[39mmethod, url\u001B[38;5;241m=\u001B[39murl, \u001B[38;5;241m*\u001B[39m\u001B[38;5;241m*\u001B[39mkwargs)\n",
      "File \u001B[1;32m~\\anaconda3\\envs\\foot_bait_blocker_env\\lib\\site-packages\\requests\\sessions.py:587\u001B[0m, in \u001B[0;36mSession.request\u001B[1;34m(self, method, url, params, data, headers, cookies, files, auth, timeout, allow_redirects, proxies, hooks, stream, verify, cert, json)\u001B[0m\n\u001B[0;32m    582\u001B[0m send_kwargs \u001B[38;5;241m=\u001B[39m {\n\u001B[0;32m    583\u001B[0m     \u001B[38;5;124m\"\u001B[39m\u001B[38;5;124mtimeout\u001B[39m\u001B[38;5;124m\"\u001B[39m: timeout,\n\u001B[0;32m    584\u001B[0m     \u001B[38;5;124m\"\u001B[39m\u001B[38;5;124mallow_redirects\u001B[39m\u001B[38;5;124m\"\u001B[39m: allow_redirects,\n\u001B[0;32m    585\u001B[0m }\n\u001B[0;32m    586\u001B[0m send_kwargs\u001B[38;5;241m.\u001B[39mupdate(settings)\n\u001B[1;32m--> 587\u001B[0m resp \u001B[38;5;241m=\u001B[39m \u001B[38;5;28mself\u001B[39m\u001B[38;5;241m.\u001B[39msend(prep, \u001B[38;5;241m*\u001B[39m\u001B[38;5;241m*\u001B[39msend_kwargs)\n\u001B[0;32m    589\u001B[0m \u001B[38;5;28;01mreturn\u001B[39;00m resp\n",
      "File \u001B[1;32m~\\anaconda3\\envs\\foot_bait_blocker_env\\lib\\site-packages\\requests\\sessions.py:723\u001B[0m, in \u001B[0;36mSession.send\u001B[1;34m(self, request, **kwargs)\u001B[0m\n\u001B[0;32m    720\u001B[0m \u001B[38;5;28;01mif\u001B[39;00m allow_redirects:\n\u001B[0;32m    721\u001B[0m     \u001B[38;5;66;03m# Redirect resolving generator.\u001B[39;00m\n\u001B[0;32m    722\u001B[0m     gen \u001B[38;5;241m=\u001B[39m \u001B[38;5;28mself\u001B[39m\u001B[38;5;241m.\u001B[39mresolve_redirects(r, request, \u001B[38;5;241m*\u001B[39m\u001B[38;5;241m*\u001B[39mkwargs)\n\u001B[1;32m--> 723\u001B[0m     history \u001B[38;5;241m=\u001B[39m [resp \u001B[38;5;28;01mfor\u001B[39;00m resp \u001B[38;5;129;01min\u001B[39;00m gen]\n\u001B[0;32m    724\u001B[0m \u001B[38;5;28;01melse\u001B[39;00m:\n\u001B[0;32m    725\u001B[0m     history \u001B[38;5;241m=\u001B[39m []\n",
      "File \u001B[1;32m~\\anaconda3\\envs\\foot_bait_blocker_env\\lib\\site-packages\\requests\\sessions.py:723\u001B[0m, in \u001B[0;36m<listcomp>\u001B[1;34m(.0)\u001B[0m\n\u001B[0;32m    720\u001B[0m \u001B[38;5;28;01mif\u001B[39;00m allow_redirects:\n\u001B[0;32m    721\u001B[0m     \u001B[38;5;66;03m# Redirect resolving generator.\u001B[39;00m\n\u001B[0;32m    722\u001B[0m     gen \u001B[38;5;241m=\u001B[39m \u001B[38;5;28mself\u001B[39m\u001B[38;5;241m.\u001B[39mresolve_redirects(r, request, \u001B[38;5;241m*\u001B[39m\u001B[38;5;241m*\u001B[39mkwargs)\n\u001B[1;32m--> 723\u001B[0m     history \u001B[38;5;241m=\u001B[39m [resp \u001B[38;5;28;01mfor\u001B[39;00m resp \u001B[38;5;129;01min\u001B[39;00m gen]\n\u001B[0;32m    724\u001B[0m \u001B[38;5;28;01melse\u001B[39;00m:\n\u001B[0;32m    725\u001B[0m     history \u001B[38;5;241m=\u001B[39m []\n",
      "File \u001B[1;32m~\\anaconda3\\envs\\foot_bait_blocker_env\\lib\\site-packages\\requests\\sessions.py:266\u001B[0m, in \u001B[0;36mSessionRedirectMixin.resolve_redirects\u001B[1;34m(self, resp, req, stream, timeout, verify, cert, proxies, yield_requests, **adapter_kwargs)\u001B[0m\n\u001B[0;32m    263\u001B[0m     \u001B[38;5;28;01myield\u001B[39;00m req\n\u001B[0;32m    264\u001B[0m \u001B[38;5;28;01melse\u001B[39;00m:\n\u001B[1;32m--> 266\u001B[0m     resp \u001B[38;5;241m=\u001B[39m \u001B[38;5;28mself\u001B[39m\u001B[38;5;241m.\u001B[39msend(\n\u001B[0;32m    267\u001B[0m         req,\n\u001B[0;32m    268\u001B[0m         stream\u001B[38;5;241m=\u001B[39mstream,\n\u001B[0;32m    269\u001B[0m         timeout\u001B[38;5;241m=\u001B[39mtimeout,\n\u001B[0;32m    270\u001B[0m         verify\u001B[38;5;241m=\u001B[39mverify,\n\u001B[0;32m    271\u001B[0m         cert\u001B[38;5;241m=\u001B[39mcert,\n\u001B[0;32m    272\u001B[0m         proxies\u001B[38;5;241m=\u001B[39mproxies,\n\u001B[0;32m    273\u001B[0m         allow_redirects\u001B[38;5;241m=\u001B[39m\u001B[38;5;28;01mFalse\u001B[39;00m,\n\u001B[0;32m    274\u001B[0m         \u001B[38;5;241m*\u001B[39m\u001B[38;5;241m*\u001B[39madapter_kwargs,\n\u001B[0;32m    275\u001B[0m     )\n\u001B[0;32m    277\u001B[0m     extract_cookies_to_jar(\u001B[38;5;28mself\u001B[39m\u001B[38;5;241m.\u001B[39mcookies, prepared_request, resp\u001B[38;5;241m.\u001B[39mraw)\n\u001B[0;32m    279\u001B[0m     \u001B[38;5;66;03m# extract redirect url, if any, for the next loop\u001B[39;00m\n",
      "File \u001B[1;32m~\\anaconda3\\envs\\foot_bait_blocker_env\\lib\\site-packages\\requests\\sessions.py:701\u001B[0m, in \u001B[0;36mSession.send\u001B[1;34m(self, request, **kwargs)\u001B[0m\n\u001B[0;32m    698\u001B[0m start \u001B[38;5;241m=\u001B[39m preferred_clock()\n\u001B[0;32m    700\u001B[0m \u001B[38;5;66;03m# Send the request\u001B[39;00m\n\u001B[1;32m--> 701\u001B[0m r \u001B[38;5;241m=\u001B[39m adapter\u001B[38;5;241m.\u001B[39msend(request, \u001B[38;5;241m*\u001B[39m\u001B[38;5;241m*\u001B[39mkwargs)\n\u001B[0;32m    703\u001B[0m \u001B[38;5;66;03m# Total elapsed time of the request (approximately)\u001B[39;00m\n\u001B[0;32m    704\u001B[0m elapsed \u001B[38;5;241m=\u001B[39m preferred_clock() \u001B[38;5;241m-\u001B[39m start\n",
      "File \u001B[1;32m~\\anaconda3\\envs\\foot_bait_blocker_env\\lib\\site-packages\\requests\\adapters.py:565\u001B[0m, in \u001B[0;36mHTTPAdapter.send\u001B[1;34m(self, request, stream, timeout, verify, cert, proxies)\u001B[0m\n\u001B[0;32m    561\u001B[0m     \u001B[38;5;28;01mif\u001B[39;00m \u001B[38;5;28misinstance\u001B[39m(e\u001B[38;5;241m.\u001B[39mreason, _SSLError):\n\u001B[0;32m    562\u001B[0m         \u001B[38;5;66;03m# This branch is for urllib3 v1.22 and later.\u001B[39;00m\n\u001B[0;32m    563\u001B[0m         \u001B[38;5;28;01mraise\u001B[39;00m SSLError(e, request\u001B[38;5;241m=\u001B[39mrequest)\n\u001B[1;32m--> 565\u001B[0m     \u001B[38;5;28;01mraise\u001B[39;00m \u001B[38;5;167;01mConnectionError\u001B[39;00m(e, request\u001B[38;5;241m=\u001B[39mrequest)\n\u001B[0;32m    567\u001B[0m \u001B[38;5;28;01mexcept\u001B[39;00m ClosedPoolError \u001B[38;5;28;01mas\u001B[39;00m e:\n\u001B[0;32m    568\u001B[0m     \u001B[38;5;28;01mraise\u001B[39;00m \u001B[38;5;167;01mConnectionError\u001B[39;00m(e, request\u001B[38;5;241m=\u001B[39mrequest)\n",
      "\u001B[1;31mConnectionError\u001B[0m: HTTPSConnectionPool(host='www.foot01.com', port=443): Max retries exceeded with url: /equipe/paris/neymar-et-jerome-rothen-ca-balance-des-secrets-388841?utm_campaign=post-auto&utm_medium=twitter (Caused by NewConnectionError('<urllib3.connection.HTTPSConnection object at 0x000001600CE7A370>: Failed to establish a new connection: [WinError 10060] Une tentative de connexion a échoué car le parti connecté n’a pas répondu convenablement au-delà d’une certaine durée ou une connexion établie a échoué car l’hôte de connexion n’a pas répondu'))"
     ]
    }
   ],
   "source": [
    "pred = 0\n",
    "for i in range(100, 15000, 100):\n",
    "    results.append( foot01[pred:i]['article_link'].apply(scrap_article_foot01) )\n",
    "    print(f'{pred} -------> {i}')\n",
    "    pred = i"
   ],
   "metadata": {
    "collapsed": false,
    "pycharm": {
     "name": "#%%\n"
    }
   }
  },
  {
   "cell_type": "code",
   "execution_count": 93,
   "outputs": [],
   "source": [
    "foot01['article_content'] = ''"
   ],
   "metadata": {
    "collapsed": false,
    "pycharm": {
     "name": "#%%\n"
    }
   }
  },
  {
   "cell_type": "code",
   "execution_count": 94,
   "outputs": [
    {
     "name": "stdout",
     "output_type": "stream",
     "text": [
      "0\n",
      "1\n",
      "2\n",
      "3\n",
      "4\n",
      "5\n",
      "6\n",
      "7\n",
      "8\n",
      "9\n",
      "10\n",
      "11\n",
      "12\n",
      "13\n",
      "14\n",
      "15\n",
      "16\n",
      "17\n",
      "18\n",
      "19\n",
      "20\n",
      "21\n",
      "22\n",
      "23\n",
      "24\n",
      "25\n",
      "26\n",
      "27\n",
      "28\n",
      "29\n",
      "30\n",
      "31\n",
      "32\n",
      "33\n",
      "34\n",
      "35\n",
      "36\n",
      "37\n",
      "38\n",
      "39\n",
      "40\n",
      "41\n",
      "42\n",
      "43\n",
      "44\n",
      "45\n",
      "46\n",
      "47\n",
      "48\n",
      "49\n",
      "50\n",
      "51\n",
      "52\n",
      "53\n",
      "54\n",
      "55\n",
      "56\n",
      "57\n",
      "58\n",
      "59\n",
      "60\n",
      "61\n",
      "62\n",
      "63\n",
      "64\n",
      "65\n",
      "66\n",
      "67\n",
      "68\n",
      "69\n",
      "70\n",
      "71\n",
      "72\n",
      "73\n",
      "74\n",
      "75\n",
      "76\n",
      "77\n",
      "78\n",
      "79\n",
      "80\n",
      "81\n",
      "82\n",
      "83\n",
      "84\n",
      "85\n",
      "86\n",
      "87\n",
      "88\n",
      "89\n",
      "90\n",
      "91\n",
      "92\n",
      "93\n",
      "94\n",
      "95\n",
      "96\n",
      "97\n",
      "98\n",
      "99\n",
      "100\n",
      "101\n",
      "102\n",
      "103\n",
      "104\n",
      "105\n",
      "106\n",
      "107\n",
      "108\n",
      "109\n",
      "110\n",
      "111\n",
      "112\n",
      "113\n",
      "114\n",
      "115\n",
      "116\n",
      "117\n",
      "118\n"
     ]
    }
   ],
   "source": [
    "pred = 0\n",
    "count = 0\n",
    "foot01['article_content'] = ''\n",
    "for i in range(100,12000,100):\n",
    "    print(count)\n",
    "    foot01.iloc[ pred : i, foot01.columns.get_loc(\"article_content\") ] = results[count]\n",
    "    pred = i\n",
    "    count = count + 1"
   ],
   "metadata": {
    "collapsed": false,
    "pycharm": {
     "name": "#%%\n"
    }
   }
  },
  {
   "cell_type": "code",
   "execution_count": 95,
   "outputs": [],
   "source": [
    "foot01.to_csv(f'{data_folder}/interim/foot01_with_content.csv', index = False)"
   ],
   "metadata": {
    "collapsed": false,
    "pycharm": {
     "name": "#%%\n"
    }
   }
  },
  {
   "cell_type": "markdown",
   "source": [
    "### 02. Foot365"
   ],
   "metadata": {
    "collapsed": false,
    "pycharm": {
     "name": "#%% md\n"
    }
   }
  },
  {
   "cell_type": "code",
   "execution_count": 122,
   "outputs": [],
   "source": [
    "def scrap_article_sofoot(page_url):\n",
    "    res = None\n",
    "    try:\n",
    "        response = requests.get(page_url)\n",
    "        page_obj = bs(response.content, 'lxml')\n",
    "        res = page_obj.find('div', class_ = 'texte')\n",
    "        if res is not None:\n",
    "            res = res.get_text(strip = True)\n",
    "    except Exception:\n",
    "        res = None\n",
    "    return res"
   ],
   "metadata": {
    "collapsed": false,
    "pycharm": {
     "name": "#%%\n"
    }
   }
  },
  {
   "cell_type": "code",
   "execution_count": 112,
   "outputs": [
    {
     "data": {
      "text/plain": "                            date  \\\n11703  2019-07-13 07:00:56+00:00   \n6313   2020-11-21 15:14:51+00:00   \n5228   2021-02-18 15:33:00+00:00   \n386    2022-07-24 09:30:16+00:00   \n7040   2020-09-22 14:05:17+00:00   \n\n                                                 content  \\\n11703  Partir au clash pour quitter la Premier League...   \n6313   Affaire à saisir ! À vendre : joueur de ballon...   \n5228   ⁉️ Si on vous dit \"légende\", \"n°10\" et \"boule ...   \n386    Tu te souviens de la Superleague Formula ? À l...   \n7040   Un match cadenassé à double tour, et quand on ...   \n\n                                         renderedContent  replyCount  \\\n11703  Partir au clash pour quitter la Premier League...           6   \n6313   Affaire à saisir ! À vendre : joueur de ballon...           5   \n5228   ⁉️ Si on vous dit \"légende\", \"n°10\" et \"boule ...           6   \n386    Tu te souviens de la Superleague Formula ? À l...           0   \n7040   Un match cadenassé à double tour, et quand on ...           2   \n\n       retweetCount  likeCount  quoteCount                  tcooutlinks  \\\n11703            17        126           1  ['https://t.co/1ARAIZjuIt']   \n6313              2         25           2  ['https://t.co/wbZT4LMcnO']   \n5228              7         43           1  ['https://t.co/RdmfMXmdqu']   \n386               1          9           0  ['https://t.co/Uc6lDmnqcZ']   \n7040              2         29           0  ['https://t.co/PelBtl04Cd']   \n\n                       hashtags  \\\n11703  ['Koscielny', 'Arsenal']   \n6313                   ['Isco']   \n5228                        NaN   \n386                ['GPFrance']   \n7040                        NaN   \n\n                                                headline  \\\n11703  Partir au clash pour quitter la Premier League...   \n6313   Affaire à saisir ! À vendre : joueur de ballon...   \n5228   ⁉️ Si on vous dit \"légende\", \"n°10\" et \"boule ...   \n386    Tu te souviens de la Superleague Formula ? À l...   \n7040   Un match cadenassé à double tour, et quand on ...   \n\n                  article_link  \n11703  https://t.co/1ARAIZjuIt  \n6313   https://t.co/wbZT4LMcnO  \n5228   https://t.co/RdmfMXmdqu  \n386    https://t.co/Uc6lDmnqcZ  \n7040   https://t.co/PelBtl04Cd  ",
      "text/html": "<div>\n<style scoped>\n    .dataframe tbody tr th:only-of-type {\n        vertical-align: middle;\n    }\n\n    .dataframe tbody tr th {\n        vertical-align: top;\n    }\n\n    .dataframe thead th {\n        text-align: right;\n    }\n</style>\n<table border=\"1\" class=\"dataframe\">\n  <thead>\n    <tr style=\"text-align: right;\">\n      <th></th>\n      <th>date</th>\n      <th>content</th>\n      <th>renderedContent</th>\n      <th>replyCount</th>\n      <th>retweetCount</th>\n      <th>likeCount</th>\n      <th>quoteCount</th>\n      <th>tcooutlinks</th>\n      <th>hashtags</th>\n      <th>headline</th>\n      <th>article_link</th>\n    </tr>\n  </thead>\n  <tbody>\n    <tr>\n      <th>11703</th>\n      <td>2019-07-13 07:00:56+00:00</td>\n      <td>Partir au clash pour quitter la Premier League...</td>\n      <td>Partir au clash pour quitter la Premier League...</td>\n      <td>6</td>\n      <td>17</td>\n      <td>126</td>\n      <td>1</td>\n      <td>['https://t.co/1ARAIZjuIt']</td>\n      <td>['Koscielny', 'Arsenal']</td>\n      <td>Partir au clash pour quitter la Premier League...</td>\n      <td>https://t.co/1ARAIZjuIt</td>\n    </tr>\n    <tr>\n      <th>6313</th>\n      <td>2020-11-21 15:14:51+00:00</td>\n      <td>Affaire à saisir ! À vendre : joueur de ballon...</td>\n      <td>Affaire à saisir ! À vendre : joueur de ballon...</td>\n      <td>5</td>\n      <td>2</td>\n      <td>25</td>\n      <td>2</td>\n      <td>['https://t.co/wbZT4LMcnO']</td>\n      <td>['Isco']</td>\n      <td>Affaire à saisir ! À vendre : joueur de ballon...</td>\n      <td>https://t.co/wbZT4LMcnO</td>\n    </tr>\n    <tr>\n      <th>5228</th>\n      <td>2021-02-18 15:33:00+00:00</td>\n      <td>⁉️ Si on vous dit \"légende\", \"n°10\" et \"boule ...</td>\n      <td>⁉️ Si on vous dit \"légende\", \"n°10\" et \"boule ...</td>\n      <td>6</td>\n      <td>7</td>\n      <td>43</td>\n      <td>1</td>\n      <td>['https://t.co/RdmfMXmdqu']</td>\n      <td>NaN</td>\n      <td>⁉️ Si on vous dit \"légende\", \"n°10\" et \"boule ...</td>\n      <td>https://t.co/RdmfMXmdqu</td>\n    </tr>\n    <tr>\n      <th>386</th>\n      <td>2022-07-24 09:30:16+00:00</td>\n      <td>Tu te souviens de la Superleague Formula ? À l...</td>\n      <td>Tu te souviens de la Superleague Formula ? À l...</td>\n      <td>0</td>\n      <td>1</td>\n      <td>9</td>\n      <td>0</td>\n      <td>['https://t.co/Uc6lDmnqcZ']</td>\n      <td>['GPFrance']</td>\n      <td>Tu te souviens de la Superleague Formula ? À l...</td>\n      <td>https://t.co/Uc6lDmnqcZ</td>\n    </tr>\n    <tr>\n      <th>7040</th>\n      <td>2020-09-22 14:05:17+00:00</td>\n      <td>Un match cadenassé à double tour, et quand on ...</td>\n      <td>Un match cadenassé à double tour, et quand on ...</td>\n      <td>2</td>\n      <td>2</td>\n      <td>29</td>\n      <td>0</td>\n      <td>['https://t.co/PelBtl04Cd']</td>\n      <td>NaN</td>\n      <td>Un match cadenassé à double tour, et quand on ...</td>\n      <td>https://t.co/PelBtl04Cd</td>\n    </tr>\n  </tbody>\n</table>\n</div>"
     },
     "execution_count": 112,
     "metadata": {},
     "output_type": "execute_result"
    }
   ],
   "source": [
    "sofoot = pd.read_csv(f'{data_folder}/interim/sofoot_clean.csv')\n",
    "sofoot.sample(5)"
   ],
   "metadata": {
    "collapsed": false,
    "pycharm": {
     "name": "#%%\n"
    }
   }
  },
  {
   "cell_type": "code",
   "execution_count": 113,
   "outputs": [
    {
     "name": "stdout",
     "output_type": "stream",
     "text": [
      "CPU times: total: 109 ms\n",
      "Wall time: 737 ms\n"
     ]
    }
   ],
   "source": [
    "%%time\n",
    "res = requests.get('https://t.co/1ARAIZjuIt')"
   ],
   "metadata": {
    "collapsed": false,
    "pycharm": {
     "name": "#%%\n"
    }
   }
  },
  {
   "cell_type": "code",
   "execution_count": 116,
   "outputs": [
    {
     "data": {
      "text/plain": "\"«Laurent Koscielny a refusé de se rendre aux États-Unis pour notre tournée de présaison. Nous sommes vraiment déçus du comportement de Laurent, qui va à l'encontre de nos instructions. Nous espérons résoudre ce problème et nous ne ferons aucun autre commentaire pour le moment.» Volontairement agrémenté d’une photo du blason du club, le communiqué de presse d’Arsenal a officialiséle bras de fer entre Koscielny et lesGunners.Pour comprendre le malaise, il faut remonter à la fin de saison, moment choisi par le défenseur de 33 ans pour annoncer au club qu’il ne prolongera pas. Réclamant d’être libéré de son contrat à son retour de vacances, ce qui a été refusé par son club, Kos' a alors tenté le tout pour le tout. Problème, ni Unai Emery ni Raúl Sanllehi, directeur sportif d’Arsenal, n’ont apprécié cette décision. Résultat, pendant que ses coéquipiers préparent leur sortie scolaire aux États-Unis, le capitaine desGunnersdevra s’entraîner avec les U23 avant que des procédures disciplinaires soient prises à son encontre. Pour le sauver de cette rébellion surprenante et le faire revenir à la maison, Bordeaux, Rennes et Lyon devront enfin passer à l’action. Mais à quel prix ?Le giron comme motivationPlutôt actifs depuis le début du mercato, les Girondins de Bordeaux cherchent encore à enrôler la première recrue phare de l’ère américaine. Ça tombe bien puisque voilà maintenant plusieurs semaines que Paulo Sousa a chuchoté à l’oreille de ses dirigeants le doux nom de Laurent Koscielny. À bientôt 34 ans (il les fêtera le 10 septembre prochain), le défenseur central français apparaît comme l’homme providentiel pour stabiliser une défense désormais orpheline du prometteur Jules Koundé (20 ans), parti au FC Séville. Après les recrutements successifs d’Edson Mexer, Loris Benito et Enock Kwateng, l’arrivée de Koscielny permettrait aux dirigeants bordelais de rayer la dernière ligne de leur liste d’emplettes défensives.Comment faire pour «\\u2009\\u2009remporter son bras de fer\\u2009\\u2009» ?Pour cela, leboardbordelais va devoir cravacher dur, même si plusieurs sources annoncent ici et là que l’ancien défenseur lorientais aurait opté pour le club au scapulaire depuis déjà plusieurs semaines. Désireux de se rapprocher de Tulle et sa famille, Koscielny aurait même déjà reçu une offre de contrat de deux ans (plus une en option) d’après leMirror. Mais c’est bel et bien la question de sa dernière année de contrat qui pose problème. Car avant ce bras de fer, Arsenal réclamait dix millions d’euros pour le laisser partir. Une somme que les Américains ne souhaitaient pas aligner malgré les vingt millions d’euros glanés grâce à la vente de Koundé en Andalousie. À force d’attendre et de regarder de près leur porte-monnaie, les Girondins pourraient bien se faire doubler par le Stade rennais et l’Olympique lyonnais.L’Europe la carotteToujours en embuscade, Rennes s’est également renseigné sur l'ancien Tourangeau depuis maintenant plusieurs semaines par le biais de son président Oliver Létang. Là encore, les rumeurs vont bon train concernant un potentiel accord de principe entre le club breton et le défenseur français. Contrairement aux Girondins, les Rennais ont l’avantage de jouer la Ligue Europa la saison prochaine. Un point non négligeable. Mais comme son concurrent bordelais, Rennes devra convaincre le joueur de réduire son salaire (estimé à un peu plus de quatre millions d’euros par an), même si l’offre bretonne serait pour l’instant supérieure à celle des Aquitains.Les 15 choses que vous devez savoir sur Laurent KoscielnyPourtant, ce vendredi, devant les exigences de l'international tricolore, la direction bretonne aurait mis fin aux discussions. Dans l'histoire, difficile d’y voir clair et de démêler le vrai du faux tant les infos se multiplient à vitesse grand V. Si Bordeaux et Rennes ne parviennent pas à rafler la mise, Lyon pourrait en profiter puisque Juninho aurait coché son nom pour remplacer Marcelo. Le club rhodanien, qui participera à la prochaine Ligue des champions et dispose d’un budget bien plus conséquent que ses concurrents, a un beau coup à jouer. Mais ce jeudi, avecla signature du défenseur central Joachim Andersen pour 30 millions, l’OL a décidé de brouiller les pistes. Pour Koscielny, le challenge lyonnais serait certainement le plus excitant, mais avec son bras de fer récent, la partie de poker semble plus que jamais relancée.Par Maxime RenaudetVous avez relevé une coquille ou une inexactitude dans ce papier ?Proposez une correction à nos secrétaires de rédaction.\""
     },
     "execution_count": 116,
     "metadata": {},
     "output_type": "execute_result"
    }
   ],
   "source": [
    "scrap_article_sofoot('https://t.co/1ARAIZjuIt')"
   ],
   "metadata": {
    "collapsed": false,
    "pycharm": {
     "name": "#%%\n"
    }
   }
  },
  {
   "cell_type": "code",
   "execution_count": 118,
   "outputs": [],
   "source": [
    "results_sofoot = []\n",
    "pred = 0"
   ],
   "metadata": {
    "collapsed": false,
    "pycharm": {
     "name": "#%%\n"
    }
   }
  },
  {
   "cell_type": "code",
   "execution_count": 123,
   "outputs": [
    {
     "name": "stdout",
     "output_type": "stream",
     "text": [
      "1000 -------> 1100\n",
      "1100 -------> 1200\n",
      "1200 -------> 1300\n",
      "1300 -------> 1400\n",
      "1400 -------> 1500\n",
      "1500 -------> 1600\n",
      "1600 -------> 1700\n",
      "1700 -------> 1800\n",
      "1800 -------> 1900\n",
      "1900 -------> 2000\n",
      "2000 -------> 2100\n",
      "2100 -------> 2200\n",
      "2200 -------> 2300\n",
      "2300 -------> 2400\n",
      "2400 -------> 2500\n",
      "2500 -------> 2600\n",
      "2600 -------> 2700\n",
      "2700 -------> 2800\n",
      "2800 -------> 2900\n",
      "2900 -------> 3000\n",
      "3000 -------> 3100\n",
      "3100 -------> 3200\n",
      "3200 -------> 3300\n",
      "3300 -------> 3400\n",
      "3400 -------> 3500\n",
      "3500 -------> 3600\n",
      "3600 -------> 3700\n",
      "3700 -------> 3800\n",
      "3800 -------> 3900\n"
     ]
    },
    {
     "name": "stderr",
     "output_type": "stream",
     "text": [
      "\n",
      "KeyboardInterrupt\n",
      "\n"
     ]
    }
   ],
   "source": [
    "pred = 1000\n",
    "for i in range(1100, 15000, 100):\n",
    "    results_sofoot.append( sofoot[pred:i]['article_link'].apply(scrap_article_sofoot) )\n",
    "    print(f'{pred} -------> {i}')\n",
    "    pred = i"
   ],
   "metadata": {
    "collapsed": false,
    "pycharm": {
     "name": "#%%\n"
    }
   }
  },
  {
   "cell_type": "code",
   "execution_count": 119,
   "outputs": [
    {
     "data": {
      "text/plain": "(19072, 11)"
     },
     "execution_count": 119,
     "metadata": {},
     "output_type": "execute_result"
    }
   ],
   "source": [],
   "metadata": {
    "collapsed": false,
    "pycharm": {
     "name": "#%%\n"
    }
   }
  },
  {
   "cell_type": "code",
   "execution_count": null,
   "outputs": [],
   "source": [],
   "metadata": {
    "collapsed": false,
    "pycharm": {
     "name": "#%%\n"
    }
   }
  }
 ],
 "metadata": {
  "kernelspec": {
   "display_name": "Python 3",
   "language": "python",
   "name": "python3"
  },
  "language_info": {
   "codemirror_mode": {
    "name": "ipython",
    "version": 2
   },
   "file_extension": ".py",
   "mimetype": "text/x-python",
   "name": "python",
   "nbconvert_exporter": "python",
   "pygments_lexer": "ipython2",
   "version": "2.7.6"
  }
 },
 "nbformat": 4,
 "nbformat_minor": 0
}